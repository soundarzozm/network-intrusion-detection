{
  "nbformat": 4,
  "nbformat_minor": 0,
  "metadata": {
    "colab": {
      "name": "apqor-evaluation.ipynb",
      "provenance": []
    },
    "kernelspec": {
      "name": "python3",
      "display_name": "Python 3"
    },
    "language_info": {
      "name": "python"
    }
  },
  "cells": [
    {
      "cell_type": "code",
      "metadata": {
        "id": "LkT4NdwZZ9o4"
      },
      "source": [
        "import pandas as pd\n",
        "import numpy as np\n",
        "import matplotlib.pyplot as plt\n",
        "import seaborn as sns\n",
        "import keras\n",
        "import joblib\n",
        "from sklearn.inspection import permutation_importance\n",
        "from sklearn.metrics import classification_report, accuracy_score\n",
        "import os"
      ],
      "execution_count": null,
      "outputs": []
    },
    {
      "cell_type": "code",
      "metadata": {
        "colab": {
          "base_uri": "https://localhost:8080/"
        },
        "id": "8fSmyNBdaCb3",
        "outputId": "093c1433-da9b-4e60-f967-2c363c77befd"
      },
      "source": [
        "!gdown https://drive.google.com/uc?id=1sN4qhEKLIkjY3KTd2SYta5pu1G-gm9D_\n",
        "!gdown https://drive.google.com/uc?id=1CCGS3OACqB1kis88blprMY_emV5x-Dqf\n",
        "!gdown https://drive.google.com/uc?id=19y70ON_InVZhMZqq-DqB0ofP40hqrp-7\n",
        "!gdown https://drive.google.com/uc?id=1Nsp4DWMN_RMmDJfaVprGUfwtq5w2MhY7\n",
        "!gdown https://drive.google.com/uc?id=1KHiM78TtjyTlDwzt4ePlthrAkfb543QU\n",
        "!gdown https://drive.google.com/uc?id=1bcWW0myBZm1FsYBGIUUgFyRMNWE82yaA\n",
        "!gdown https://drive.google.com/uc?id=1GBo8QH00Xh0RMQeLa7ejNUJS1-dROSWV\n",
        "!gdown https://drive.google.com/uc?id=1r3inPmI5aYHFosZrnm5XdHzJVd9yWQD1\n",
        "!gdown https://drive.google.com/uc?id=1-exSiCMRq6K0k47488Dr6BpYAa-mOh1Z\n",
        "!gdown https://drive.google.com/uc?id=1DniHhJcQOEr9DkxOuTxvhkaUoHxHzswr\n",
        "!gdown https://drive.google.com/uc?id=1C3zKX7myeHBajHEPoEJ3W_zjw4ra2Xy-"
      ],
      "execution_count": null,
      "outputs": [
        {
          "output_type": "stream",
          "text": [
            "Downloading...\n",
            "From: https://drive.google.com/uc?id=1sN4qhEKLIkjY3KTd2SYta5pu1G-gm9D_\n",
            "To: /content/model_nn.h5\n",
            "100% 98.3k/98.3k [00:00<00:00, 23.9MB/s]\n",
            "Downloading...\n",
            "From: https://drive.google.com/uc?id=1CCGS3OACqB1kis88blprMY_emV5x-Dqf\n",
            "To: /content/NB_compressed.joblib\n",
            "100% 13.0k/13.0k [00:00<00:00, 27.2MB/s]\n",
            "Downloading...\n",
            "From: https://drive.google.com/uc?id=19y70ON_InVZhMZqq-DqB0ofP40hqrp-7\n",
            "To: /content/RF_compressed.joblib\n",
            "8.28MB [00:00, 20.0MB/s]\n",
            "Downloading...\n",
            "From: https://drive.google.com/uc?id=1Nsp4DWMN_RMmDJfaVprGUfwtq5w2MhY7\n",
            "To: /content/y_test.npz\n",
            "100% 217k/217k [00:00<00:00, 32.1MB/s]\n",
            "Downloading...\n",
            "From: https://drive.google.com/uc?id=1KHiM78TtjyTlDwzt4ePlthrAkfb543QU\n",
            "To: /content/y_pred_rf.npz\n",
            "100% 216k/216k [00:00<00:00, 30.5MB/s]\n",
            "Downloading...\n",
            "From: https://drive.google.com/uc?id=1bcWW0myBZm1FsYBGIUUgFyRMNWE82yaA\n",
            "To: /content/y_pred_nn.npz\n",
            "100% 207k/207k [00:00<00:00, 29.7MB/s]\n",
            "Downloading...\n",
            "From: https://drive.google.com/uc?id=1GBo8QH00Xh0RMQeLa7ejNUJS1-dROSWV\n",
            "To: /content/y_pred_nb.npz\n",
            "100% 393k/393k [00:00<00:00, 57.6MB/s]\n",
            "Downloading...\n",
            "From: https://drive.google.com/uc?id=1r3inPmI5aYHFosZrnm5XdHzJVd9yWQD1\n",
            "To: /content/y_pred_mini_rf.npz\n",
            "100% 218k/218k [00:00<00:00, 82.6MB/s]\n",
            "Downloading...\n",
            "From: https://drive.google.com/uc?id=1-exSiCMRq6K0k47488Dr6BpYAa-mOh1Z\n",
            "To: /content/y_pred_mini_nn.npz\n",
            "100% 201k/201k [00:00<00:00, 71.5MB/s]\n",
            "Downloading...\n",
            "From: https://drive.google.com/uc?id=1DniHhJcQOEr9DkxOuTxvhkaUoHxHzswr\n",
            "To: /content/y_pred_mini_nb.npz\n",
            "100% 483k/483k [00:00<00:00, 59.4MB/s]\n",
            "Downloading...\n",
            "From: https://drive.google.com/uc?id=1C3zKX7myeHBajHEPoEJ3W_zjw4ra2Xy-\n",
            "To: /content/y_test_mini.npz\n",
            "100% 217k/217k [00:00<00:00, 36.8MB/s]\n"
          ],
          "name": "stdout"
        }
      ]
    },
    {
      "cell_type": "code",
      "metadata": {
        "id": "ke3sjpaSaNx9"
      },
      "source": [
        "model_nn = keras.models.load_model('model_nn.h5')\n",
        "rfClassifier = joblib.load('RF_compressed.joblib')\n",
        "nbClassifier = joblib.load('NB_compressed.joblib')"
      ],
      "execution_count": null,
      "outputs": []
    },
    {
      "cell_type": "code",
      "metadata": {
        "id": "_2f6ZJQWavpu"
      },
      "source": [
        "y_test = np.load('y_test.npz')['arr_0']\n",
        "y_test_mini = np.load('y_test_mini.npz')['arr_0']\n",
        "y_pred_rf = np.load('y_pred_rf.npz')['arr_0']\n",
        "y_pred_nb = np.load('y_pred_nb.npz')['arr_0']\n",
        "y_pred_nn = np.load('y_pred_nn.npz')['arr_0']\n",
        "y_pred_mini_rf = np.load('y_pred_mini_rf.npz')['arr_0']\n",
        "y_pred_mini_nb = np.load('y_pred_mini_nb.npz')['arr_0']\n",
        "y_pred_mini_nn = np.load('y_pred_mini_nn.npz')['arr_0']"
      ],
      "execution_count": null,
      "outputs": []
    },
    {
      "cell_type": "code",
      "metadata": {
        "id": "BXg5ZMLn-8RF"
      },
      "source": [
        "integer_mapping = {'BENIGN': 0,\n",
        " 'Bot': 1,\n",
        " 'DDoS': 2,\n",
        " 'DoS GoldenEye': 3,\n",
        " 'DoS Hulk': 4,\n",
        " 'DoS Slowhttptest': 5,\n",
        " 'DoS slowloris': 6,\n",
        " 'FTP-Patator': 7,\n",
        " 'Heartbleed': 8,\n",
        " 'Infiltration': 9,\n",
        " 'PortScan': 10,\n",
        " 'SSH-Patator': 11,\n",
        " 'Web': 12}\n",
        "\n",
        "integer_mapping = {v: k for k, v in integer_mapping.items()}\n"
      ],
      "execution_count": null,
      "outputs": []
    },
    {
      "cell_type": "code",
      "metadata": {
        "colab": {
          "base_uri": "https://localhost:8080/"
        },
        "id": "t9CpQ_BX_Xob",
        "outputId": "54cd21e8-2fa2-4fa7-db6c-85c2e62a5c3f"
      },
      "source": [
        "integer_mapping"
      ],
      "execution_count": null,
      "outputs": [
        {
          "output_type": "execute_result",
          "data": {
            "text/plain": [
              "{0: 'BENIGN',\n",
              " 1: 'Bot',\n",
              " 2: 'DDoS',\n",
              " 3: 'DoS GoldenEye',\n",
              " 4: 'DoS Hulk',\n",
              " 5: 'DoS Slowhttptest',\n",
              " 6: 'DoS slowloris',\n",
              " 7: 'FTP-Patator',\n",
              " 8: 'Heartbleed',\n",
              " 9: 'Infiltration',\n",
              " 10: 'PortScan',\n",
              " 11: 'SSH-Patator',\n",
              " 12: 'Web'}"
            ]
          },
          "metadata": {
            "tags": []
          },
          "execution_count": 6
        }
      ]
    },
    {
      "cell_type": "code",
      "metadata": {
        "id": "_kqJ3nvc_bhT"
      },
      "source": [
        "def convertLabels(y):\n",
        "\n",
        "  result = []\n",
        "\n",
        "  for i in range(y.shape[0]):\n",
        "    result.append(integer_mapping[y[i]])\n",
        "  return result"
      ],
      "execution_count": null,
      "outputs": []
    },
    {
      "cell_type": "code",
      "metadata": {
        "id": "gJd-ZkdNbXVi",
        "colab": {
          "base_uri": "https://localhost:8080/"
        },
        "outputId": "3c6715af-1e13-4b83-f068-bb7317da916c"
      },
      "source": [
        "print('Random Forest Classifier - Full Dataset\\n')\n",
        "print(classification_report(y_test, y_pred_rf))\n",
        "print(\"\\n\", integer_mapping)\n",
        "print(\"\\nAccuracy: \" + str(accuracy_score(y_test, y_pred_rf)*100)[:5] + '%')"
      ],
      "execution_count": null,
      "outputs": [
        {
          "output_type": "stream",
          "text": [
            "Random Forest Classifier - Full Dataset\n",
            "\n",
            "              precision    recall  f1-score   support\n",
            "\n",
            "           0       1.00      1.00      1.00    568033\n",
            "           1       0.88      0.66      0.76       509\n",
            "           2       1.00      1.00      1.00     31896\n",
            "           3       1.00      0.99      1.00      2570\n",
            "           4       1.00      1.00      1.00     57515\n",
            "           5       1.00      0.99      0.99      1336\n",
            "           6       1.00      1.00      1.00      1464\n",
            "           7       1.00      1.00      1.00      1982\n",
            "           8       1.00      0.75      0.86         4\n",
            "           9       1.00      0.75      0.86         8\n",
            "          10       0.99      1.00      1.00     39708\n",
            "          11       1.00      1.00      1.00      1429\n",
            "          12       0.99      0.96      0.97       515\n",
            "\n",
            "    accuracy                           1.00    706969\n",
            "   macro avg       0.99      0.93      0.96    706969\n",
            "weighted avg       1.00      1.00      1.00    706969\n",
            "\n",
            "\n",
            " {0: 'BENIGN', 1: 'Bot', 2: 'DDoS', 3: 'DoS GoldenEye', 4: 'DoS Hulk', 5: 'DoS Slowhttptest', 6: 'DoS slowloris', 7: 'FTP-Patator', 8: 'Heartbleed', 9: 'Infiltration', 10: 'PortScan', 11: 'SSH-Patator', 12: 'Web'}\n",
            "\n",
            "Accuracy: 99.89%\n"
          ],
          "name": "stdout"
        }
      ]
    },
    {
      "cell_type": "code",
      "metadata": {
        "colab": {
          "base_uri": "https://localhost:8080/"
        },
        "id": "EDoRQd9O6wsb",
        "outputId": "e43ac143-6e13-419f-d630-bdeee5c5537e"
      },
      "source": [
        "print('Naive Bayes Classifier - Full Dataset\\n')\n",
        "print(classification_report(y_test, y_pred_nb))\n",
        "print(\"\\n\", integer_mapping)\n",
        "print(\"\\nAccuracy: \" + str(accuracy_score(y_test, y_pred_nb)*100)[:5] + '%')"
      ],
      "execution_count": null,
      "outputs": [
        {
          "output_type": "stream",
          "text": [
            "Naive Bayes Classifier - Full Dataset\n",
            "\n"
          ],
          "name": "stdout"
        },
        {
          "output_type": "stream",
          "text": [
            "/usr/local/lib/python3.7/dist-packages/sklearn/metrics/_classification.py:1272: UndefinedMetricWarning: Precision and F-score are ill-defined and being set to 0.0 in labels with no predicted samples. Use `zero_division` parameter to control this behavior.\n",
            "  _warn_prf(average, modifier, msg_start, len(result))\n"
          ],
          "name": "stderr"
        },
        {
          "output_type": "stream",
          "text": [
            "              precision    recall  f1-score   support\n",
            "\n",
            "           0       0.80      0.53      0.64    568033\n",
            "           1       0.00      0.19      0.00       509\n",
            "           2       0.04      0.05      0.05     31896\n",
            "           3       0.00      0.02      0.01      2570\n",
            "           4       0.08      0.07      0.08     57515\n",
            "           5       0.00      0.01      0.00      1336\n",
            "           6       0.00      0.02      0.00      1464\n",
            "           7       0.00      0.00      0.00      1982\n",
            "           8       0.00      0.00      0.00         4\n",
            "           9       0.00      0.00      0.00         8\n",
            "          10       0.06      0.06      0.06     39708\n",
            "          11       0.00      0.01      0.00      1429\n",
            "          12       0.00      0.02      0.00       515\n",
            "\n",
            "    accuracy                           0.43    706969\n",
            "   macro avg       0.08      0.07      0.06    706969\n",
            "weighted avg       0.66      0.43      0.52    706969\n",
            "\n",
            "\n",
            " {0: 'BENIGN', 1: 'Bot', 2: 'DDoS', 3: 'DoS GoldenEye', 4: 'DoS Hulk', 5: 'DoS Slowhttptest', 6: 'DoS slowloris', 7: 'FTP-Patator', 8: 'Heartbleed', 9: 'Infiltration', 10: 'PortScan', 11: 'SSH-Patator', 12: 'Web'}\n",
            "\n",
            "Accuracy: 43.42%\n"
          ],
          "name": "stdout"
        }
      ]
    },
    {
      "cell_type": "code",
      "metadata": {
        "colab": {
          "base_uri": "https://localhost:8080/"
        },
        "id": "D8Ax-38w7Jnf",
        "outputId": "31270b13-c326-45ed-f87b-e4b33ad547be"
      },
      "source": [
        "print('Neural Network - Full Dataset\\n')\n",
        "print(classification_report(y_test, y_pred_nn))\n",
        "print(\"\\n\", integer_mapping)\n",
        "print(\"\\nAccuracy: \" + str(accuracy_score(y_test, y_pred_nn)*100)[:5] + '%')"
      ],
      "execution_count": null,
      "outputs": [
        {
          "output_type": "stream",
          "text": [
            "Neural Network - Full Dataset\n",
            "\n"
          ],
          "name": "stdout"
        },
        {
          "output_type": "stream",
          "text": [
            "/usr/local/lib/python3.7/dist-packages/sklearn/metrics/_classification.py:1272: UndefinedMetricWarning: Precision and F-score are ill-defined and being set to 0.0 in labels with no predicted samples. Use `zero_division` parameter to control this behavior.\n",
            "  _warn_prf(average, modifier, msg_start, len(result))\n"
          ],
          "name": "stderr"
        },
        {
          "output_type": "stream",
          "text": [
            "              precision    recall  f1-score   support\n",
            "\n",
            "           0       0.80      0.80      0.80    568033\n",
            "           1       0.00      0.00      0.00       509\n",
            "           2       0.04      0.04      0.04     31896\n",
            "           3       0.00      0.00      0.00      2570\n",
            "           4       0.08      0.08      0.08     57515\n",
            "           5       0.00      0.00      0.00      1336\n",
            "           6       0.00      0.00      0.00      1464\n",
            "           7       0.00      0.00      0.00      1982\n",
            "           8       0.00      0.00      0.00         4\n",
            "           9       0.00      0.00      0.00         8\n",
            "          10       0.06      0.06      0.06     39708\n",
            "          11       0.00      0.00      0.00      1429\n",
            "          12       0.00      0.00      0.00       515\n",
            "\n",
            "    accuracy                           0.66    706969\n",
            "   macro avg       0.08      0.08      0.08    706969\n",
            "weighted avg       0.66      0.66      0.66    706969\n",
            "\n",
            "\n",
            " {0: 'BENIGN', 1: 'Bot', 2: 'DDoS', 3: 'DoS GoldenEye', 4: 'DoS Hulk', 5: 'DoS Slowhttptest', 6: 'DoS slowloris', 7: 'FTP-Patator', 8: 'Heartbleed', 9: 'Infiltration', 10: 'PortScan', 11: 'SSH-Patator', 12: 'Web'}\n",
            "\n",
            "Accuracy: 65.80%\n"
          ],
          "name": "stdout"
        }
      ]
    },
    {
      "cell_type": "code",
      "metadata": {
        "colab": {
          "base_uri": "https://localhost:8080/"
        },
        "id": "Xd-pssPo7RIe",
        "outputId": "790104f0-dc73-4ba9-e672-5d8e42472aa1"
      },
      "source": [
        "print('Random Forest Classifier - Subset Dataset\\n')\n",
        "print(classification_report(y_test_mini, y_pred_mini_rf))\n",
        "print(\"\\n\", integer_mapping)\n",
        "print(\"\\nAccuracy: \" + str(accuracy_score(y_test_mini, y_pred_mini_rf)*100)[:5] + '%')"
      ],
      "execution_count": null,
      "outputs": [
        {
          "output_type": "stream",
          "text": [
            "Random Forest Classifier - Subset Dataset\n",
            "\n",
            "              precision    recall  f1-score   support\n",
            "\n",
            "           0       0.80      0.80      0.80    568283\n",
            "           1       0.00      0.00      0.00       493\n",
            "           2       0.05      0.05      0.05     31755\n",
            "           3       0.00      0.00      0.00      2562\n",
            "           4       0.08      0.08      0.08     57723\n",
            "           5       0.00      0.00      0.00      1409\n",
            "           6       0.00      0.00      0.00      1493\n",
            "           7       0.00      0.00      0.00      1885\n",
            "           8       0.00      0.00      0.00         1\n",
            "           9       0.00      0.00      0.00        10\n",
            "          10       0.06      0.06      0.06     40003\n",
            "          11       0.00      0.00      0.00      1483\n",
            "          12       0.00      0.00      0.00       586\n",
            "\n",
            "    accuracy                           0.66    707686\n",
            "   macro avg       0.08      0.08      0.08    707686\n",
            "weighted avg       0.66      0.66      0.66    707686\n",
            "\n",
            "\n",
            " {0: 'BENIGN', 1: 'Bot', 2: 'DDoS', 3: 'DoS GoldenEye', 4: 'DoS Hulk', 5: 'DoS Slowhttptest', 6: 'DoS slowloris', 7: 'FTP-Patator', 8: 'Heartbleed', 9: 'Infiltration', 10: 'PortScan', 11: 'SSH-Patator', 12: 'Web'}\n",
            "\n",
            "Accuracy: 65.63%\n"
          ],
          "name": "stdout"
        }
      ]
    },
    {
      "cell_type": "code",
      "metadata": {
        "colab": {
          "base_uri": "https://localhost:8080/"
        },
        "id": "Y2FJr5-M7Wmk",
        "outputId": "1be8ea77-35bc-4b29-e3d1-592439bf0e68"
      },
      "source": [
        "print('Naive Bayes Classifier - Subset Dataset\\n')\n",
        "print(classification_report(y_test_mini, y_pred_mini_nb))\n",
        "print(\"\\n\", integer_mapping)\n",
        "print(\"\\nAccuracy: \" + str(accuracy_score(y_test_mini, y_pred_mini_nb)*100)[:5] + '%')"
      ],
      "execution_count": null,
      "outputs": [
        {
          "output_type": "stream",
          "text": [
            "Naive Bayes Classifier - Subset Dataset\n",
            "\n",
            "              precision    recall  f1-score   support\n",
            "\n",
            "           0       0.80      0.04      0.08    568283\n",
            "           1       0.00      0.31      0.00       493\n",
            "           2       0.05      0.07      0.06     31755\n",
            "           3       0.00      0.11      0.01      2562\n",
            "           4       0.08      0.20      0.11     57723\n",
            "           5       0.00      0.01      0.00      1409\n",
            "           6       0.00      0.02      0.00      1493\n",
            "           7       0.00      0.06      0.01      1885\n",
            "           8       0.00      0.00      0.00         1\n",
            "           9       0.00      0.10      0.00        10\n",
            "          10       0.06      0.08      0.06     40003\n",
            "          11       0.00      0.01      0.00      1483\n",
            "          12       0.00      0.09      0.00       586\n",
            "\n",
            "    accuracy                           0.06    707686\n",
            "   macro avg       0.08      0.08      0.03    707686\n",
            "weighted avg       0.65      0.06      0.08    707686\n",
            "\n",
            "\n",
            " {0: 'BENIGN', 1: 'Bot', 2: 'DDoS', 3: 'DoS GoldenEye', 4: 'DoS Hulk', 5: 'DoS Slowhttptest', 6: 'DoS slowloris', 7: 'FTP-Patator', 8: 'Heartbleed', 9: 'Infiltration', 10: 'PortScan', 11: 'SSH-Patator', 12: 'Web'}\n",
            "\n",
            "Accuracy: 5.783%\n"
          ],
          "name": "stdout"
        }
      ]
    },
    {
      "cell_type": "code",
      "metadata": {
        "colab": {
          "base_uri": "https://localhost:8080/"
        },
        "id": "_7j-s95Z7cKI",
        "outputId": "2970d0df-2f1b-4dce-ddcf-dc43f121ab0a"
      },
      "source": [
        "print('Neural Network - Subset Dataset\\n')\n",
        "print(classification_report(y_test_mini, y_pred_mini_nn))\n",
        "print(\"\\n\", integer_mapping)\n",
        "print(\"\\nAccuracy: \" + str(accuracy_score(y_test_mini, y_pred_mini_nn)*100)[:5] + '%')"
      ],
      "execution_count": null,
      "outputs": [
        {
          "output_type": "stream",
          "text": [
            "Neural Network - Subset Dataset\n",
            "\n"
          ],
          "name": "stdout"
        },
        {
          "output_type": "stream",
          "text": [
            "/usr/local/lib/python3.7/dist-packages/sklearn/metrics/_classification.py:1272: UndefinedMetricWarning: Precision and F-score are ill-defined and being set to 0.0 in labels with no predicted samples. Use `zero_division` parameter to control this behavior.\n",
            "  _warn_prf(average, modifier, msg_start, len(result))\n"
          ],
          "name": "stderr"
        },
        {
          "output_type": "stream",
          "text": [
            "              precision    recall  f1-score   support\n",
            "\n",
            "           0       0.80      0.82      0.81    568283\n",
            "           1       0.00      0.00      0.00       493\n",
            "           2       0.05      0.04      0.04     31755\n",
            "           3       0.00      0.00      0.00      2562\n",
            "           4       0.08      0.07      0.08     57723\n",
            "           5       0.00      0.00      0.00      1409\n",
            "           6       0.00      0.00      0.00      1493\n",
            "           7       0.00      0.00      0.00      1885\n",
            "           8       0.00      0.00      0.00         1\n",
            "           9       0.00      0.00      0.00        10\n",
            "          10       0.06      0.06      0.06     40003\n",
            "          11       0.00      0.00      0.00      1483\n",
            "          12       0.00      0.00      0.00       586\n",
            "\n",
            "    accuracy                           0.67    707686\n",
            "   macro avg       0.08      0.08      0.08    707686\n",
            "weighted avg       0.66      0.67      0.66    707686\n",
            "\n",
            "\n",
            " {0: 'BENIGN', 1: 'Bot', 2: 'DDoS', 3: 'DoS GoldenEye', 4: 'DoS Hulk', 5: 'DoS Slowhttptest', 6: 'DoS slowloris', 7: 'FTP-Patator', 8: 'Heartbleed', 9: 'Infiltration', 10: 'PortScan', 11: 'SSH-Patator', 12: 'Web'}\n",
            "\n",
            "Accuracy: 66.77%\n"
          ],
          "name": "stdout"
        }
      ]
    }
  ]
}