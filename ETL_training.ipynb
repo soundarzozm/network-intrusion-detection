{
  "nbformat": 4,
  "nbformat_minor": 0,
  "metadata": {
    "colab": {
      "name": "ETL_training.ipynb",
      "provenance": [],
      "collapsed_sections": []
    },
    "kernelspec": {
      "name": "python3",
      "display_name": "Python 3",
      "language": "python"
    },
    "language_info": {
      "name": "python",
      "version": "3.8.8"
    }
  },
  "cells": [
    {
      "cell_type": "markdown",
      "metadata": {
        "id": "1EtjCqdYkUa5"
      },
      "source": [
        "<h2>Extract Transform Load<br>\n",
        "and Training Notebook</h2><br>\n",
        "Let's begin by importing the necessary libraries and modules.\n"
      ]
    },
    {
      "cell_type": "code",
      "metadata": {
        "id": "tOg3gzyzZeJN"
      },
      "source": [
        "import pandas as pd\n",
        "import numpy as np\n",
        "from numpy import savez_compressed\n",
        "from sklearn.model_selection import train_test_split\n",
        "from sklearn.ensemble import RandomForestClassifier\n",
        "from sklearn.naive_bayes import GaussianNB\n",
        "from sklearn.metrics import accuracy_score\n",
        "from sklearn.preprocessing import LabelEncoder\n",
        "from sklearn.preprocessing import StandardScaler\n",
        "import keras\n",
        "from keras.models import Sequential\n",
        "from keras.layers import Dense\n",
        "from keras.utils import to_categorical\n",
        "import os\n",
        "import joblib"
      ],
      "execution_count": 1,
      "outputs": []
    },
    {
      "cell_type": "markdown",
      "metadata": {
        "id": "2yIdcEjPkUbA"
      },
      "source": [
        "Let's download the datasets from the cloud."
      ]
    },
    {
      "cell_type": "code",
      "metadata": {
        "colab": {
          "base_uri": "https://localhost:8080/"
        },
        "id": "78CeOTpZcFX3",
        "outputId": "d8026fb6-d4a4-4a3f-8cd9-73ca04521399"
      },
      "source": [
        "!gdown https://drive.google.com/uc?id=1oCIVZbIWmg2RvcCHcxko5alyZh19nGoF\n",
        "!gdown https://drive.google.com/uc?id=1vCS6gDbsS3mVE5WLHM0nu-ww0GcI1ybN\n",
        "!gdown https://drive.google.com/uc?id=10_pO2fGiAKSdNjO-p3d1dFo3VuY1juL5\n",
        "!gdown https://drive.google.com/uc?id=1kSH1dteCOdFT5eFFM-1DCdbl7TZ4gXzS\n",
        "!gdown https://drive.google.com/uc?id=1nRKTC6Pez1fRAMYkFIHQNLfB0Hhj5fok\n",
        "!gdown https://drive.google.com/uc?id=1lA19-bvYJ_btc1WSXpKqU9L6nD3dpUjR\n",
        "!gdown https://drive.google.com/uc?id=1Av_X9N5BB38edPLK0vtYIBQ9toUdDB1e\n",
        "!gdown https://drive.google.com/uc?id=11u-MTRj8qiqC0rsB23F37lc4MjNh3Fhk"
      ],
      "execution_count": 2,
      "outputs": [
        {
          "output_type": "stream",
          "text": [
            "Downloading...\n",
            "From: https://drive.google.com/uc?id=1oCIVZbIWmg2RvcCHcxko5alyZh19nGoF\n",
            "To: /content/Monday-WorkingHours.pcap_ISCX.csv\n",
            "177MB [00:03, 54.0MB/s]\n",
            "Downloading...\n",
            "From: https://drive.google.com/uc?id=1vCS6gDbsS3mVE5WLHM0nu-ww0GcI1ybN\n",
            "To: /content/Tuesday-WorkingHours.pcap_ISCX.csv\n",
            "135MB [00:02, 51.2MB/s]\n",
            "Downloading...\n",
            "From: https://drive.google.com/uc?id=10_pO2fGiAKSdNjO-p3d1dFo3VuY1juL5\n",
            "To: /content/Wednesday-workingHours.pcap_ISCX.csv\n",
            "225MB [00:03, 62.0MB/s]\n",
            "Downloading...\n",
            "From: https://drive.google.com/uc?id=1kSH1dteCOdFT5eFFM-1DCdbl7TZ4gXzS\n",
            "To: /content/Thursday-WorkingHours-Morning-WebAttacks.pcap_ISCX.csv\n",
            "52.0MB [00:01, 41.0MB/s]\n",
            "Downloading...\n",
            "From: https://drive.google.com/uc?id=1nRKTC6Pez1fRAMYkFIHQNLfB0Hhj5fok\n",
            "To: /content/Thursday-WorkingHours-Afternoon-Infilteration.pcap_ISCX.csv\n",
            "83.1MB [00:01, 77.6MB/s]\n",
            "Downloading...\n",
            "From: https://drive.google.com/uc?id=1lA19-bvYJ_btc1WSXpKqU9L6nD3dpUjR\n",
            "To: /content/Friday-WorkingHours-Morning.pcap_ISCX.csv\n",
            "58.3MB [00:00, 60.3MB/s]\n",
            "Downloading...\n",
            "From: https://drive.google.com/uc?id=1Av_X9N5BB38edPLK0vtYIBQ9toUdDB1e\n",
            "To: /content/Friday-WorkingHours-Afternoon-PortScan.pcap_ISCX.csv\n",
            "76.9MB [00:01, 53.8MB/s]\n",
            "Downloading...\n",
            "From: https://drive.google.com/uc?id=11u-MTRj8qiqC0rsB23F37lc4MjNh3Fhk\n",
            "To: /content/Friday-WorkingHours-Afternoon-DDos.pcap_ISCX.csv\n",
            "77.1MB [00:02, 28.3MB/s]\n"
          ],
          "name": "stdout"
        }
      ]
    },
    {
      "cell_type": "code",
      "metadata": {
        "id": "U88llIreOf23",
        "colab": {
          "base_uri": "https://localhost:8080/"
        },
        "outputId": "4a7f096b-7167-410c-f56d-356c37717856"
      },
      "source": [
        "datasets = []\n",
        "\n",
        "files = os.listdir()\n",
        "for f in files:\n",
        "    if f[-3:] == 'csv':\n",
        "        datasets.append(f)\n",
        "datasets"
      ],
      "execution_count": 3,
      "outputs": [
        {
          "output_type": "execute_result",
          "data": {
            "text/plain": [
              "['Friday-WorkingHours-Morning.pcap_ISCX.csv',\n",
              " 'Monday-WorkingHours.pcap_ISCX.csv',\n",
              " 'Wednesday-workingHours.pcap_ISCX.csv',\n",
              " 'Friday-WorkingHours-Afternoon-DDos.pcap_ISCX.csv',\n",
              " 'Tuesday-WorkingHours.pcap_ISCX.csv',\n",
              " 'Thursday-WorkingHours-Afternoon-Infilteration.pcap_ISCX.csv',\n",
              " 'Friday-WorkingHours-Afternoon-PortScan.pcap_ISCX.csv',\n",
              " 'Thursday-WorkingHours-Morning-WebAttacks.pcap_ISCX.csv']"
            ]
          },
          "metadata": {
            "tags": []
          },
          "execution_count": 3
        }
      ]
    },
    {
      "cell_type": "markdown",
      "metadata": {
        "id": "nKgw29nhkUbD"
      },
      "source": [
        "We create the master dataframe."
      ]
    },
    {
      "cell_type": "code",
      "metadata": {
        "id": "KQM7QJL8hQck"
      },
      "source": [
        "df = pd.read_csv(datasets[0])\n",
        "\n",
        "for i in range(1, len(datasets)):\n",
        "  df_inter = pd.read_csv(datasets[i])\n",
        "  df = pd.concat([df, df_inter], axis=0)\n",
        "  \n",
        "df = df.sample(frac = 1)"
      ],
      "execution_count": 4,
      "outputs": []
    },
    {
      "cell_type": "code",
      "metadata": {
        "id": "N07DOthwhQvV"
      },
      "source": [
        "imp_features = ['Flow IAT Min',\n",
        " 'Bwd IAT Mean',\n",
        " 'Flow IAT Mean',\n",
        " 'Init_Win_bytes_forward',\n",
        " 'Subflow Fwd Bytes',\n",
        " 'Total Length of Fwd Packets',\n",
        " 'ACK Flag Count',\n",
        " 'Fwd PSH Flags',\n",
        " 'SYN Flag Count',\n",
        " 'Fwd Packets/s',\n",
        " 'Init_Win_bytes_backward',\n",
        " 'Flow Duration',\n",
        " 'Active Mean',\n",
        " 'Fwd Packet Length Mean',\n",
        " 'Bwd Packets/s',\n",
        " 'PSH Flag Count',\n",
        " 'Bwd Packet Length Std',\n",
        " 'Average Packet Size',\n",
        " 'Flow IAT Std',\n",
        " 'Label']"
      ],
      "execution_count": 5,
      "outputs": []
    },
    {
      "cell_type": "code",
      "metadata": {
        "colab": {
          "base_uri": "https://localhost:8080/",
          "height": 275
        },
        "id": "Af6Qx52rnrME",
        "outputId": "9570085c-289d-4eab-a986-ec69e45eb7d9"
      },
      "source": [
        "df.head()"
      ],
      "execution_count": 6,
      "outputs": [
        {
          "output_type": "execute_result",
          "data": {
            "text/html": [
              "<div>\n",
              "<style scoped>\n",
              "    .dataframe tbody tr th:only-of-type {\n",
              "        vertical-align: middle;\n",
              "    }\n",
              "\n",
              "    .dataframe tbody tr th {\n",
              "        vertical-align: top;\n",
              "    }\n",
              "\n",
              "    .dataframe thead th {\n",
              "        text-align: right;\n",
              "    }\n",
              "</style>\n",
              "<table border=\"1\" class=\"dataframe\">\n",
              "  <thead>\n",
              "    <tr style=\"text-align: right;\">\n",
              "      <th></th>\n",
              "      <th>Destination Port</th>\n",
              "      <th>Flow Duration</th>\n",
              "      <th>Total Fwd Packets</th>\n",
              "      <th>Total Backward Packets</th>\n",
              "      <th>Total Length of Fwd Packets</th>\n",
              "      <th>Total Length of Bwd Packets</th>\n",
              "      <th>Fwd Packet Length Max</th>\n",
              "      <th>Fwd Packet Length Min</th>\n",
              "      <th>Fwd Packet Length Mean</th>\n",
              "      <th>Fwd Packet Length Std</th>\n",
              "      <th>Bwd Packet Length Max</th>\n",
              "      <th>Bwd Packet Length Min</th>\n",
              "      <th>Bwd Packet Length Mean</th>\n",
              "      <th>Bwd Packet Length Std</th>\n",
              "      <th>Flow Bytes/s</th>\n",
              "      <th>Flow Packets/s</th>\n",
              "      <th>Flow IAT Mean</th>\n",
              "      <th>Flow IAT Std</th>\n",
              "      <th>Flow IAT Max</th>\n",
              "      <th>Flow IAT Min</th>\n",
              "      <th>Fwd IAT Total</th>\n",
              "      <th>Fwd IAT Mean</th>\n",
              "      <th>Fwd IAT Std</th>\n",
              "      <th>Fwd IAT Max</th>\n",
              "      <th>Fwd IAT Min</th>\n",
              "      <th>Bwd IAT Total</th>\n",
              "      <th>Bwd IAT Mean</th>\n",
              "      <th>Bwd IAT Std</th>\n",
              "      <th>Bwd IAT Max</th>\n",
              "      <th>Bwd IAT Min</th>\n",
              "      <th>Fwd PSH Flags</th>\n",
              "      <th>Bwd PSH Flags</th>\n",
              "      <th>Fwd URG Flags</th>\n",
              "      <th>Bwd URG Flags</th>\n",
              "      <th>Fwd Header Length</th>\n",
              "      <th>Bwd Header Length</th>\n",
              "      <th>Fwd Packets/s</th>\n",
              "      <th>Bwd Packets/s</th>\n",
              "      <th>Min Packet Length</th>\n",
              "      <th>Max Packet Length</th>\n",
              "      <th>Packet Length Mean</th>\n",
              "      <th>Packet Length Std</th>\n",
              "      <th>Packet Length Variance</th>\n",
              "      <th>FIN Flag Count</th>\n",
              "      <th>SYN Flag Count</th>\n",
              "      <th>RST Flag Count</th>\n",
              "      <th>PSH Flag Count</th>\n",
              "      <th>ACK Flag Count</th>\n",
              "      <th>URG Flag Count</th>\n",
              "      <th>CWE Flag Count</th>\n",
              "      <th>ECE Flag Count</th>\n",
              "      <th>Down/Up Ratio</th>\n",
              "      <th>Average Packet Size</th>\n",
              "      <th>Avg Fwd Segment Size</th>\n",
              "      <th>Avg Bwd Segment Size</th>\n",
              "      <th>Fwd Header Length.1</th>\n",
              "      <th>Fwd Avg Bytes/Bulk</th>\n",
              "      <th>Fwd Avg Packets/Bulk</th>\n",
              "      <th>Fwd Avg Bulk Rate</th>\n",
              "      <th>Bwd Avg Bytes/Bulk</th>\n",
              "      <th>Bwd Avg Packets/Bulk</th>\n",
              "      <th>Bwd Avg Bulk Rate</th>\n",
              "      <th>Subflow Fwd Packets</th>\n",
              "      <th>Subflow Fwd Bytes</th>\n",
              "      <th>Subflow Bwd Packets</th>\n",
              "      <th>Subflow Bwd Bytes</th>\n",
              "      <th>Init_Win_bytes_forward</th>\n",
              "      <th>Init_Win_bytes_backward</th>\n",
              "      <th>act_data_pkt_fwd</th>\n",
              "      <th>min_seg_size_forward</th>\n",
              "      <th>Active Mean</th>\n",
              "      <th>Active Std</th>\n",
              "      <th>Active Max</th>\n",
              "      <th>Active Min</th>\n",
              "      <th>Idle Mean</th>\n",
              "      <th>Idle Std</th>\n",
              "      <th>Idle Max</th>\n",
              "      <th>Idle Min</th>\n",
              "      <th>Label</th>\n",
              "    </tr>\n",
              "  </thead>\n",
              "  <tbody>\n",
              "    <tr>\n",
              "      <th>263199</th>\n",
              "      <td>443</td>\n",
              "      <td>392236</td>\n",
              "      <td>18</td>\n",
              "      <td>30</td>\n",
              "      <td>887</td>\n",
              "      <td>39350</td>\n",
              "      <td>405</td>\n",
              "      <td>0</td>\n",
              "      <td>49.277778</td>\n",
              "      <td>111.13839</td>\n",
              "      <td>2896</td>\n",
              "      <td>0</td>\n",
              "      <td>1311.666667</td>\n",
              "      <td>582.541124</td>\n",
              "      <td>1.025836e+05</td>\n",
              "      <td>122.375305</td>\n",
              "      <td>8345.446809</td>\n",
              "      <td>21281.765880</td>\n",
              "      <td>112010</td>\n",
              "      <td>3</td>\n",
              "      <td>392236</td>\n",
              "      <td>23072.70588</td>\n",
              "      <td>31147.63471</td>\n",
              "      <td>112010</td>\n",
              "      <td>3</td>\n",
              "      <td>328074</td>\n",
              "      <td>11312.89655</td>\n",
              "      <td>34229.21447</td>\n",
              "      <td>143835</td>\n",
              "      <td>189</td>\n",
              "      <td>0</td>\n",
              "      <td>0</td>\n",
              "      <td>0</td>\n",
              "      <td>0</td>\n",
              "      <td>588</td>\n",
              "      <td>968</td>\n",
              "      <td>45.890739</td>\n",
              "      <td>76.484565</td>\n",
              "      <td>0</td>\n",
              "      <td>2896</td>\n",
              "      <td>821.163265</td>\n",
              "      <td>772.818121</td>\n",
              "      <td>597247.847800</td>\n",
              "      <td>0</td>\n",
              "      <td>0</td>\n",
              "      <td>0</td>\n",
              "      <td>1</td>\n",
              "      <td>0</td>\n",
              "      <td>0</td>\n",
              "      <td>0</td>\n",
              "      <td>0</td>\n",
              "      <td>1</td>\n",
              "      <td>838.270833</td>\n",
              "      <td>49.277778</td>\n",
              "      <td>1311.666667</td>\n",
              "      <td>588</td>\n",
              "      <td>0</td>\n",
              "      <td>0</td>\n",
              "      <td>0</td>\n",
              "      <td>0</td>\n",
              "      <td>0</td>\n",
              "      <td>0</td>\n",
              "      <td>18</td>\n",
              "      <td>887</td>\n",
              "      <td>30</td>\n",
              "      <td>39350</td>\n",
              "      <td>65535</td>\n",
              "      <td>122</td>\n",
              "      <td>6</td>\n",
              "      <td>32</td>\n",
              "      <td>0.0</td>\n",
              "      <td>0.0</td>\n",
              "      <td>0</td>\n",
              "      <td>0</td>\n",
              "      <td>0.0</td>\n",
              "      <td>0.0</td>\n",
              "      <td>0</td>\n",
              "      <td>0</td>\n",
              "      <td>BENIGN</td>\n",
              "    </tr>\n",
              "    <tr>\n",
              "      <th>406628</th>\n",
              "      <td>53</td>\n",
              "      <td>203</td>\n",
              "      <td>2</td>\n",
              "      <td>2</td>\n",
              "      <td>70</td>\n",
              "      <td>262</td>\n",
              "      <td>35</td>\n",
              "      <td>35</td>\n",
              "      <td>35.000000</td>\n",
              "      <td>0.00000</td>\n",
              "      <td>131</td>\n",
              "      <td>131</td>\n",
              "      <td>131.000000</td>\n",
              "      <td>0.000000</td>\n",
              "      <td>1.635468e+06</td>\n",
              "      <td>19704.433500</td>\n",
              "      <td>67.666667</td>\n",
              "      <td>105.153855</td>\n",
              "      <td>189</td>\n",
              "      <td>3</td>\n",
              "      <td>3</td>\n",
              "      <td>3.00000</td>\n",
              "      <td>0.00000</td>\n",
              "      <td>3</td>\n",
              "      <td>3</td>\n",
              "      <td>11</td>\n",
              "      <td>11.00000</td>\n",
              "      <td>0.00000</td>\n",
              "      <td>11</td>\n",
              "      <td>11</td>\n",
              "      <td>0</td>\n",
              "      <td>0</td>\n",
              "      <td>0</td>\n",
              "      <td>0</td>\n",
              "      <td>64</td>\n",
              "      <td>64</td>\n",
              "      <td>9852.216749</td>\n",
              "      <td>9852.216749</td>\n",
              "      <td>35</td>\n",
              "      <td>131</td>\n",
              "      <td>73.400000</td>\n",
              "      <td>52.581366</td>\n",
              "      <td>2764.800000</td>\n",
              "      <td>0</td>\n",
              "      <td>0</td>\n",
              "      <td>0</td>\n",
              "      <td>0</td>\n",
              "      <td>0</td>\n",
              "      <td>0</td>\n",
              "      <td>0</td>\n",
              "      <td>0</td>\n",
              "      <td>1</td>\n",
              "      <td>91.750000</td>\n",
              "      <td>35.000000</td>\n",
              "      <td>131.000000</td>\n",
              "      <td>64</td>\n",
              "      <td>0</td>\n",
              "      <td>0</td>\n",
              "      <td>0</td>\n",
              "      <td>0</td>\n",
              "      <td>0</td>\n",
              "      <td>0</td>\n",
              "      <td>2</td>\n",
              "      <td>70</td>\n",
              "      <td>2</td>\n",
              "      <td>262</td>\n",
              "      <td>-1</td>\n",
              "      <td>-1</td>\n",
              "      <td>1</td>\n",
              "      <td>32</td>\n",
              "      <td>0.0</td>\n",
              "      <td>0.0</td>\n",
              "      <td>0</td>\n",
              "      <td>0</td>\n",
              "      <td>0.0</td>\n",
              "      <td>0.0</td>\n",
              "      <td>0</td>\n",
              "      <td>0</td>\n",
              "      <td>BENIGN</td>\n",
              "    </tr>\n",
              "    <tr>\n",
              "      <th>133924</th>\n",
              "      <td>53</td>\n",
              "      <td>204651</td>\n",
              "      <td>2</td>\n",
              "      <td>2</td>\n",
              "      <td>68</td>\n",
              "      <td>216</td>\n",
              "      <td>34</td>\n",
              "      <td>34</td>\n",
              "      <td>34.000000</td>\n",
              "      <td>0.00000</td>\n",
              "      <td>108</td>\n",
              "      <td>108</td>\n",
              "      <td>108.000000</td>\n",
              "      <td>0.000000</td>\n",
              "      <td>1.387728e+03</td>\n",
              "      <td>19.545470</td>\n",
              "      <td>68217.000000</td>\n",
              "      <td>118148.381700</td>\n",
              "      <td>204643</td>\n",
              "      <td>4</td>\n",
              "      <td>4</td>\n",
              "      <td>4.00000</td>\n",
              "      <td>0.00000</td>\n",
              "      <td>4</td>\n",
              "      <td>4</td>\n",
              "      <td>4</td>\n",
              "      <td>4.00000</td>\n",
              "      <td>0.00000</td>\n",
              "      <td>4</td>\n",
              "      <td>4</td>\n",
              "      <td>0</td>\n",
              "      <td>0</td>\n",
              "      <td>0</td>\n",
              "      <td>0</td>\n",
              "      <td>40</td>\n",
              "      <td>64</td>\n",
              "      <td>9.772735</td>\n",
              "      <td>9.772735</td>\n",
              "      <td>34</td>\n",
              "      <td>108</td>\n",
              "      <td>63.600000</td>\n",
              "      <td>40.531469</td>\n",
              "      <td>1642.800000</td>\n",
              "      <td>0</td>\n",
              "      <td>0</td>\n",
              "      <td>0</td>\n",
              "      <td>0</td>\n",
              "      <td>0</td>\n",
              "      <td>0</td>\n",
              "      <td>0</td>\n",
              "      <td>0</td>\n",
              "      <td>1</td>\n",
              "      <td>79.500000</td>\n",
              "      <td>34.000000</td>\n",
              "      <td>108.000000</td>\n",
              "      <td>40</td>\n",
              "      <td>0</td>\n",
              "      <td>0</td>\n",
              "      <td>0</td>\n",
              "      <td>0</td>\n",
              "      <td>0</td>\n",
              "      <td>0</td>\n",
              "      <td>2</td>\n",
              "      <td>68</td>\n",
              "      <td>2</td>\n",
              "      <td>216</td>\n",
              "      <td>-1</td>\n",
              "      <td>-1</td>\n",
              "      <td>1</td>\n",
              "      <td>20</td>\n",
              "      <td>0.0</td>\n",
              "      <td>0.0</td>\n",
              "      <td>0</td>\n",
              "      <td>0</td>\n",
              "      <td>0.0</td>\n",
              "      <td>0.0</td>\n",
              "      <td>0</td>\n",
              "      <td>0</td>\n",
              "      <td>BENIGN</td>\n",
              "    </tr>\n",
              "    <tr>\n",
              "      <th>152207</th>\n",
              "      <td>53</td>\n",
              "      <td>23394</td>\n",
              "      <td>1</td>\n",
              "      <td>1</td>\n",
              "      <td>57</td>\n",
              "      <td>73</td>\n",
              "      <td>57</td>\n",
              "      <td>57</td>\n",
              "      <td>57.000000</td>\n",
              "      <td>0.00000</td>\n",
              "      <td>73</td>\n",
              "      <td>73</td>\n",
              "      <td>73.000000</td>\n",
              "      <td>0.000000</td>\n",
              "      <td>5.556980e+03</td>\n",
              "      <td>85.492006</td>\n",
              "      <td>23394.000000</td>\n",
              "      <td>0.000000</td>\n",
              "      <td>23394</td>\n",
              "      <td>23394</td>\n",
              "      <td>0</td>\n",
              "      <td>0.00000</td>\n",
              "      <td>0.00000</td>\n",
              "      <td>0</td>\n",
              "      <td>0</td>\n",
              "      <td>0</td>\n",
              "      <td>0.00000</td>\n",
              "      <td>0.00000</td>\n",
              "      <td>0</td>\n",
              "      <td>0</td>\n",
              "      <td>0</td>\n",
              "      <td>0</td>\n",
              "      <td>0</td>\n",
              "      <td>0</td>\n",
              "      <td>32</td>\n",
              "      <td>20</td>\n",
              "      <td>42.746003</td>\n",
              "      <td>42.746003</td>\n",
              "      <td>57</td>\n",
              "      <td>73</td>\n",
              "      <td>62.333333</td>\n",
              "      <td>9.237604</td>\n",
              "      <td>85.333333</td>\n",
              "      <td>0</td>\n",
              "      <td>0</td>\n",
              "      <td>0</td>\n",
              "      <td>0</td>\n",
              "      <td>0</td>\n",
              "      <td>0</td>\n",
              "      <td>0</td>\n",
              "      <td>0</td>\n",
              "      <td>1</td>\n",
              "      <td>93.500000</td>\n",
              "      <td>57.000000</td>\n",
              "      <td>73.000000</td>\n",
              "      <td>32</td>\n",
              "      <td>0</td>\n",
              "      <td>0</td>\n",
              "      <td>0</td>\n",
              "      <td>0</td>\n",
              "      <td>0</td>\n",
              "      <td>0</td>\n",
              "      <td>1</td>\n",
              "      <td>57</td>\n",
              "      <td>1</td>\n",
              "      <td>73</td>\n",
              "      <td>-1</td>\n",
              "      <td>-1</td>\n",
              "      <td>0</td>\n",
              "      <td>32</td>\n",
              "      <td>0.0</td>\n",
              "      <td>0.0</td>\n",
              "      <td>0</td>\n",
              "      <td>0</td>\n",
              "      <td>0.0</td>\n",
              "      <td>0.0</td>\n",
              "      <td>0</td>\n",
              "      <td>0</td>\n",
              "      <td>BENIGN</td>\n",
              "    </tr>\n",
              "    <tr>\n",
              "      <th>336531</th>\n",
              "      <td>53</td>\n",
              "      <td>190</td>\n",
              "      <td>2</td>\n",
              "      <td>2</td>\n",
              "      <td>60</td>\n",
              "      <td>264</td>\n",
              "      <td>30</td>\n",
              "      <td>30</td>\n",
              "      <td>30.000000</td>\n",
              "      <td>0.00000</td>\n",
              "      <td>132</td>\n",
              "      <td>132</td>\n",
              "      <td>132.000000</td>\n",
              "      <td>0.000000</td>\n",
              "      <td>1.705263e+06</td>\n",
              "      <td>21052.631580</td>\n",
              "      <td>63.333333</td>\n",
              "      <td>103.635580</td>\n",
              "      <td>183</td>\n",
              "      <td>3</td>\n",
              "      <td>4</td>\n",
              "      <td>4.00000</td>\n",
              "      <td>0.00000</td>\n",
              "      <td>4</td>\n",
              "      <td>4</td>\n",
              "      <td>3</td>\n",
              "      <td>3.00000</td>\n",
              "      <td>0.00000</td>\n",
              "      <td>3</td>\n",
              "      <td>3</td>\n",
              "      <td>0</td>\n",
              "      <td>0</td>\n",
              "      <td>0</td>\n",
              "      <td>0</td>\n",
              "      <td>64</td>\n",
              "      <td>64</td>\n",
              "      <td>10526.315790</td>\n",
              "      <td>10526.315790</td>\n",
              "      <td>30</td>\n",
              "      <td>132</td>\n",
              "      <td>70.800000</td>\n",
              "      <td>55.867701</td>\n",
              "      <td>3121.200000</td>\n",
              "      <td>0</td>\n",
              "      <td>0</td>\n",
              "      <td>0</td>\n",
              "      <td>0</td>\n",
              "      <td>0</td>\n",
              "      <td>0</td>\n",
              "      <td>0</td>\n",
              "      <td>0</td>\n",
              "      <td>1</td>\n",
              "      <td>88.500000</td>\n",
              "      <td>30.000000</td>\n",
              "      <td>132.000000</td>\n",
              "      <td>64</td>\n",
              "      <td>0</td>\n",
              "      <td>0</td>\n",
              "      <td>0</td>\n",
              "      <td>0</td>\n",
              "      <td>0</td>\n",
              "      <td>0</td>\n",
              "      <td>2</td>\n",
              "      <td>60</td>\n",
              "      <td>2</td>\n",
              "      <td>264</td>\n",
              "      <td>-1</td>\n",
              "      <td>-1</td>\n",
              "      <td>1</td>\n",
              "      <td>32</td>\n",
              "      <td>0.0</td>\n",
              "      <td>0.0</td>\n",
              "      <td>0</td>\n",
              "      <td>0</td>\n",
              "      <td>0.0</td>\n",
              "      <td>0.0</td>\n",
              "      <td>0</td>\n",
              "      <td>0</td>\n",
              "      <td>BENIGN</td>\n",
              "    </tr>\n",
              "  </tbody>\n",
              "</table>\n",
              "</div>"
            ],
            "text/plain": [
              "         Destination Port   Flow Duration  ...   Idle Min   Label\n",
              "263199                443          392236  ...          0  BENIGN\n",
              "406628                 53             203  ...          0  BENIGN\n",
              "133924                 53          204651  ...          0  BENIGN\n",
              "152207                 53           23394  ...          0  BENIGN\n",
              "336531                 53             190  ...          0  BENIGN\n",
              "\n",
              "[5 rows x 79 columns]"
            ]
          },
          "metadata": {
            "tags": []
          },
          "execution_count": 6
        }
      ]
    },
    {
      "cell_type": "code",
      "metadata": {
        "id": "FCKupkD8dXRy"
      },
      "source": [
        "cols = list(df.columns)\n",
        "\n",
        "for col in cols:\n",
        "  if col[0] == ' ':\n",
        "    df = df.rename(columns={col: col[1:]})"
      ],
      "execution_count": 7,
      "outputs": []
    },
    {
      "cell_type": "code",
      "metadata": {
        "id": "HocTSZopeXVd"
      },
      "source": [
        "#df = df[imp_features]\n",
        "cols = list(df.columns)"
      ],
      "execution_count": 8,
      "outputs": []
    },
    {
      "cell_type": "code",
      "metadata": {
        "id": "Xm0CYCVq8iK7"
      },
      "source": [
        "df.replace([np.inf, -np.inf], np.nan, inplace=True)\n",
        "df.dropna(inplace=True)\n",
        "df = df.reset_index(drop=True)"
      ],
      "execution_count": 9,
      "outputs": []
    },
    {
      "cell_type": "code",
      "metadata": {
        "id": "8i3_rQrCFx00"
      },
      "source": [
        "df.iloc[:,-1] = df.iloc[:, -1].apply(lambda x : 'Web' if x[:3] == 'Web' or x[:3] == 'Sql' else x)"
      ],
      "execution_count": 10,
      "outputs": []
    },
    {
      "cell_type": "markdown",
      "metadata": {
        "id": "QzawQPpckUbJ"
      },
      "source": [
        "Let's divide our dataframe into <i>features (X)</i> and <i>target (y)</i>."
      ]
    },
    {
      "cell_type": "code",
      "metadata": {
        "id": "UekhK8_6EFfI"
      },
      "source": [
        "X = df.iloc[:, :-1]\n",
        "y = df.iloc[:, -1]"
      ],
      "execution_count": 11,
      "outputs": []
    },
    {
      "cell_type": "markdown",
      "metadata": {
        "id": "XflmwZF3kUbJ"
      },
      "source": [
        "We use Label Encoder to convert our String labels to integers to enable training the Regressor. (Machines only understand numbers)"
      ]
    },
    {
      "cell_type": "code",
      "metadata": {
        "id": "71CEy-edSN2n"
      },
      "source": [
        "le = LabelEncoder()\n",
        "y = le.fit_transform(y)"
      ],
      "execution_count": 12,
      "outputs": []
    },
    {
      "cell_type": "markdown",
      "metadata": {
        "id": "dJrfuZU_kUbK"
      },
      "source": [
        "We use <i>Standard Scaler</i> which scales the values of all features to a common specified range so that the models do not get skewed. (Otherwise big numbers automatically have greater impact <i>especially with neural networks</i>)"
      ]
    },
    {
      "cell_type": "code",
      "metadata": {
        "id": "8JGM_jezc-ym"
      },
      "source": [
        "ss = StandardScaler()\n",
        "X = ss.fit_transform(X)"
      ],
      "execution_count": 13,
      "outputs": []
    },
    {
      "cell_type": "code",
      "metadata": {
        "colab": {
          "base_uri": "https://localhost:8080/"
        },
        "id": "wvUSInHSSUou",
        "outputId": "5d9a565f-a53d-45c6-d69b-0c04aef4872b"
      },
      "source": [
        "X"
      ],
      "execution_count": 14,
      "outputs": [
        {
          "output_type": "execute_result",
          "data": {
            "text/plain": [
              "array([[-4.16898415e-01, -4.27962240e-01,  1.15072316e-02, ...,\n",
              "        -1.09516433e-01, -3.57071532e-01, -3.39184426e-01],\n",
              "       [-4.38239842e-01, -4.39606497e-01, -9.82460718e-03, ...,\n",
              "        -1.09516433e-01, -3.57071532e-01, -3.39184426e-01],\n",
              "       [-4.38239842e-01, -4.33533934e-01, -9.82460718e-03, ...,\n",
              "        -1.09516433e-01, -3.57071532e-01, -3.39184426e-01],\n",
              "       ...,\n",
              "       [-4.36762359e-01,  3.00120617e+00,  8.84075178e-03, ...,\n",
              "        -1.01159224e-01,  6.13942856e-02,  9.17849818e-02],\n",
              "       [-4.36762359e-01, -4.30722677e-01, -8.49136725e-03, ...,\n",
              "        -1.09516433e-01, -3.57071532e-01, -3.39184426e-01],\n",
              "       [-4.16898415e-01, -2.83694587e-01, -1.82516763e-03, ...,\n",
              "        -1.09516433e-01, -3.57071532e-01, -3.39184426e-01]])"
            ]
          },
          "metadata": {
            "tags": []
          },
          "execution_count": 14
        }
      ]
    },
    {
      "cell_type": "code",
      "metadata": {
        "colab": {
          "base_uri": "https://localhost:8080/"
        },
        "id": "X2UDqLODSWi_",
        "outputId": "53194df6-61e5-477f-a71e-33a8f75b3bfd"
      },
      "source": [
        "np.unique(y)"
      ],
      "execution_count": 15,
      "outputs": [
        {
          "output_type": "execute_result",
          "data": {
            "text/plain": [
              "array([ 0,  1,  2,  3,  4,  5,  6,  7,  8,  9, 10, 11, 12])"
            ]
          },
          "metadata": {
            "tags": []
          },
          "execution_count": 15
        }
      ]
    },
    {
      "cell_type": "markdown",
      "metadata": {
        "id": "EjFAs2fBkUbM"
      },
      "source": [
        "We split the data into the following:\n",
        "- Training set 75%\n",
        "- Test set 25%"
      ]
    },
    {
      "cell_type": "code",
      "metadata": {
        "id": "vpzxzsK2Sr6C"
      },
      "source": [
        "X_train, X_test, y_train, y_test = train_test_split(X, y, test_size = 0.25, random_state = 21)"
      ],
      "execution_count": 16,
      "outputs": []
    },
    {
      "cell_type": "code",
      "metadata": {
        "id": "QMXY-zXiMlEn"
      },
      "source": [
        "#savez_compressed('y_test.npz', y_test)"
      ],
      "execution_count": 17,
      "outputs": []
    },
    {
      "cell_type": "markdown",
      "metadata": {
        "id": "xNULyHVZkUbN"
      },
      "source": [
        "Let's create a dictionary which maps the integer labels to their corresponding string labels."
      ]
    },
    {
      "cell_type": "code",
      "metadata": {
        "id": "ExqOQsAK-sVA"
      },
      "source": [
        "def get_integer_mapping(le):\n",
        "    '''\n",
        "    Return a dict mapping labels to their integer values\n",
        "    from an SKlearn LabelEncoder\n",
        "    le = a fitted SKlearn LabelEncoder\n",
        "    '''\n",
        "    res = {}\n",
        "    for cl in le.classes_:\n",
        "        res.update({cl:le.transform([cl])[0]})\n",
        "\n",
        "    return res\n",
        "\n",
        "integerMapping = get_integer_mapping(le)"
      ],
      "execution_count": 18,
      "outputs": []
    },
    {
      "cell_type": "markdown",
      "metadata": {
        "id": "NJLy4xaGkUbO"
      },
      "source": [
        "Let's train the Random Forest Classifier."
      ]
    },
    {
      "cell_type": "code",
      "metadata": {
        "id": "xi014-3yVdnm",
        "colab": {
          "base_uri": "https://localhost:8080/"
        },
        "outputId": "ed39d1b3-6eda-4ea6-a4d1-91c70e47ea34"
      },
      "source": [
        "rfClassifier = RandomForestClassifier(n_estimators = 100, criterion = 'entropy', random_state = 42)\n",
        "rfClassifier.fit(X_train, y_train)"
      ],
      "execution_count": 19,
      "outputs": [
        {
          "output_type": "execute_result",
          "data": {
            "text/plain": [
              "RandomForestClassifier(bootstrap=True, ccp_alpha=0.0, class_weight=None,\n",
              "                       criterion='entropy', max_depth=None, max_features='auto',\n",
              "                       max_leaf_nodes=None, max_samples=None,\n",
              "                       min_impurity_decrease=0.0, min_impurity_split=None,\n",
              "                       min_samples_leaf=1, min_samples_split=2,\n",
              "                       min_weight_fraction_leaf=0.0, n_estimators=100,\n",
              "                       n_jobs=None, oob_score=False, random_state=42, verbose=0,\n",
              "                       warm_start=False)"
            ]
          },
          "metadata": {
            "tags": []
          },
          "execution_count": 19
        }
      ]
    },
    {
      "cell_type": "markdown",
      "metadata": {
        "id": "CMuAT5vQkUbO"
      },
      "source": [
        "Let's roughly get the accuracy of the model."
      ]
    },
    {
      "cell_type": "code",
      "metadata": {
        "id": "_cRYPVJXVkgy",
        "colab": {
          "base_uri": "https://localhost:8080/"
        },
        "outputId": "4fb7493c-f9ce-493d-e943-9db02ea10f06"
      },
      "source": [
        "y_pred_rf = rfClassifier.predict(X_test)\n",
        "accuracy_score(y_test, y_pred_rf)"
      ],
      "execution_count": 20,
      "outputs": [
        {
          "output_type": "execute_result",
          "data": {
            "text/plain": [
              "0.9989292316919129"
            ]
          },
          "metadata": {
            "tags": []
          },
          "execution_count": 20
        }
      ]
    },
    {
      "cell_type": "markdown",
      "metadata": {
        "id": "49MQF_CLkUbP"
      },
      "source": [
        "The Random Forest Classifier provides an accuracy of a whopping 99.89%."
      ]
    },
    {
      "cell_type": "code",
      "metadata": {
        "id": "1aeH3p8mQlie"
      },
      "source": [
        "savez_compressed('y_pred_rf.npz', y_pred_rf)"
      ],
      "execution_count": 21,
      "outputs": []
    },
    {
      "cell_type": "code",
      "metadata": {
        "id": "jGSbqeeGcMTd",
        "colab": {
          "base_uri": "https://localhost:8080/"
        },
        "outputId": "8931ee05-3a7c-4209-ac94-cf65a9426298"
      },
      "source": [
        "np.unique(y_pred_rf, return_counts=True)"
      ],
      "execution_count": 22,
      "outputs": [
        {
          "output_type": "execute_result",
          "data": {
            "text/plain": [
              "(array([ 0,  1,  2,  3,  4,  5,  6,  7,  8,  9, 10, 11, 12]),\n",
              " array([567597,    350,  31944,   2556,  57792,   1385,   1361,   1962,\n",
              "             4,     10,  39922,   1555,    531]))"
            ]
          },
          "metadata": {
            "tags": []
          },
          "execution_count": 22
        }
      ]
    },
    {
      "cell_type": "markdown",
      "metadata": {
        "id": "4TM9FqjTkUbQ"
      },
      "source": [
        "We train the Naive Bayes Classifier."
      ]
    },
    {
      "cell_type": "code",
      "metadata": {
        "id": "D9mdTBEBcQfa",
        "colab": {
          "base_uri": "https://localhost:8080/"
        },
        "outputId": "21112fbc-281b-4fef-9050-77d006f752e7"
      },
      "source": [
        "nbClassifier = GaussianNB()\n",
        "nbClassifier.fit(X_train, y_train)"
      ],
      "execution_count": 23,
      "outputs": [
        {
          "output_type": "execute_result",
          "data": {
            "text/plain": [
              "GaussianNB(priors=None, var_smoothing=1e-09)"
            ]
          },
          "metadata": {
            "tags": []
          },
          "execution_count": 23
        }
      ]
    },
    {
      "cell_type": "code",
      "metadata": {
        "id": "8rYxlT1MHgg1",
        "colab": {
          "base_uri": "https://localhost:8080/"
        },
        "outputId": "82b49967-a7ae-41aa-d51c-b4d99fdae4ae"
      },
      "source": [
        "y_pred_nb = nbClassifier.predict(X_test)\n",
        "accuracy_score(y_test, y_pred_nb)"
      ],
      "execution_count": 24,
      "outputs": [
        {
          "output_type": "execute_result",
          "data": {
            "text/plain": [
              "0.6987067325441426"
            ]
          },
          "metadata": {
            "tags": []
          },
          "execution_count": 24
        }
      ]
    },
    {
      "cell_type": "markdown",
      "metadata": {
        "id": "7cvl_UlAkUbR"
      },
      "source": [
        "We get an accuracy score of 69.87%."
      ]
    },
    {
      "cell_type": "code",
      "metadata": {
        "id": "EXtJKz-2Qn68"
      },
      "source": [
        "savez_compressed('y_pred_nb.npz', y_pred_nb)"
      ],
      "execution_count": 25,
      "outputs": []
    },
    {
      "cell_type": "markdown",
      "metadata": {
        "id": "JwnOogGikUbS"
      },
      "source": [
        "Let's build our neural network."
      ]
    },
    {
      "cell_type": "code",
      "metadata": {
        "id": "hYpSLG-ILJyu"
      },
      "source": [
        "model_nn = Sequential()\n",
        "\n",
        "model_nn.add(Dense(32, activation = 'relu', input_dim = 78))\n",
        "model_nn.add(Dense(64, activation = 'relu'))\n",
        "\n",
        "model_nn.add(Dense(13, activation = 'softmax'))"
      ],
      "execution_count": 26,
      "outputs": []
    },
    {
      "cell_type": "code",
      "metadata": {
        "id": "icNS-FkxLkkw"
      },
      "source": [
        "Adam = keras.optimizers.Adam(lr=0.01, beta_1=0.9, beta_2=0.999, amsgrad=False)"
      ],
      "execution_count": 27,
      "outputs": []
    },
    {
      "cell_type": "code",
      "metadata": {
        "id": "sDRi1dLDL1vP"
      },
      "source": [
        "model_nn.compile(loss='categorical_crossentropy', optimizer=Adam, metrics=['accuracy'])"
      ],
      "execution_count": 28,
      "outputs": []
    },
    {
      "cell_type": "markdown",
      "metadata": {
        "id": "fR_etwz9kUbU"
      },
      "source": [
        "For softmax activation layer, we need one hot vectors and not integers.<br>\n",
        "Hence, we create one hot vectors of the target."
      ]
    },
    {
      "cell_type": "code",
      "metadata": {
        "id": "0tKM33A4MVvc"
      },
      "source": [
        "y_train_nn = to_categorical(y_train)"
      ],
      "execution_count": 29,
      "outputs": []
    },
    {
      "cell_type": "markdown",
      "metadata": {
        "id": "BlphefI_kUbU"
      },
      "source": [
        "We train our neural network."
      ]
    },
    {
      "cell_type": "code",
      "metadata": {
        "id": "i_QlVK0zL_M-",
        "colab": {
          "base_uri": "https://localhost:8080/"
        },
        "outputId": "695bcae8-1dff-4d4f-c508-553598d2d9c7"
      },
      "source": [
        "model_nn.fit(X_train, y_train_nn, epochs = 2, validation_split = 0.2)"
      ],
      "execution_count": 30,
      "outputs": [
        {
          "output_type": "stream",
          "text": [
            "Epoch 1/2\n",
            "53023/53023 [==============================] - 90s 2ms/step - loss: 0.1119 - accuracy: 0.9629 - val_loss: 0.0961 - val_accuracy: 0.9690\n",
            "Epoch 2/2\n",
            "53023/53023 [==============================] - 88s 2ms/step - loss: 0.1074 - accuracy: 0.9686 - val_loss: 0.0898 - val_accuracy: 0.9686\n"
          ],
          "name": "stdout"
        },
        {
          "output_type": "execute_result",
          "data": {
            "text/plain": [
              "<tensorflow.python.keras.callbacks.History at 0x7f5e7d571d10>"
            ]
          },
          "metadata": {
            "tags": []
          },
          "execution_count": 30
        }
      ]
    },
    {
      "cell_type": "code",
      "metadata": {
        "id": "VCmGXZReMF8q",
        "colab": {
          "base_uri": "https://localhost:8080/"
        },
        "outputId": "4ce87b22-b9b4-4d64-f4fa-142277006142"
      },
      "source": [
        "y_test_nn = to_categorical(y_test)\n",
        "model_nn.evaluate(X_test, y_test_nn)"
      ],
      "execution_count": 31,
      "outputs": [
        {
          "output_type": "stream",
          "text": [
            "22093/22093 [==============================] - 23s 1ms/step - loss: 0.0929 - accuracy: 0.9689\n"
          ],
          "name": "stdout"
        },
        {
          "output_type": "execute_result",
          "data": {
            "text/plain": [
              "[0.0929190069437027, 0.9689491391181946]"
            ]
          },
          "metadata": {
            "tags": []
          },
          "execution_count": 31
        }
      ]
    },
    {
      "cell_type": "markdown",
      "metadata": {
        "id": "xSZBp2lCkUbV"
      },
      "source": [
        "We get an accuracy score of 96.89%."
      ]
    },
    {
      "cell_type": "code",
      "metadata": {
        "id": "_RhN8JL-Qwdt"
      },
      "source": [
        "y_pred_nn = model_nn.predict(X_test)\n",
        "y_pred_nn = np.argmax(y_pred_nn, axis=1)"
      ],
      "execution_count": 32,
      "outputs": []
    },
    {
      "cell_type": "code",
      "metadata": {
        "id": "CXC63xREuF5p"
      },
      "source": [
        "savez_compressed('y_pred_nn.npz', y_pred_nn)"
      ],
      "execution_count": 33,
      "outputs": []
    },
    {
      "cell_type": "code",
      "metadata": {
        "id": "TBxpjwvxdotj"
      },
      "source": [
        "#model_nn.save(\"model_nn.h5\")\n",
        "#joblib.dump(rfClassifier, \"RF_compressed.joblib\", compress=3) \n",
        "#joblib.dump(nbClassifier, \"NB_compressed.joblib\", compress=3) "
      ],
      "execution_count": 34,
      "outputs": []
    },
    {
      "cell_type": "markdown",
      "metadata": {
        "id": "3nk17wY6kUbY"
      },
      "source": [
        "Now that our models are trained, saved, and exported, we can move ahead with the evaluation."
      ]
    }
  ]
}