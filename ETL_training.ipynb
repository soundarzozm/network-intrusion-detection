{
  "nbformat": 4,
  "nbformat_minor": 0,
  "metadata": {
    "colab": {
      "name": "apqor-ETL-training.ipynb",
      "provenance": [],
      "collapsed_sections": []
    },
    "kernelspec": {
      "name": "python3",
      "display_name": "Python 3"
    },
    "language_info": {
      "name": "python"
    }
  },
  "cells": [
    {
      "cell_type": "code",
      "metadata": {
        "id": "tOg3gzyzZeJN"
      },
      "source": [
        "import pandas as pd\n",
        "import numpy as np\n",
        "from numpy import savez_compressed\n",
        "from sklearn.model_selection import train_test_split\n",
        "from sklearn.ensemble import RandomForestClassifier\n",
        "from sklearn.naive_bayes import GaussianNB\n",
        "from sklearn.metrics import accuracy_score\n",
        "from sklearn.preprocessing import LabelEncoder\n",
        "from sklearn.preprocessing import StandardScaler\n",
        "import keras\n",
        "from keras.models import Sequential\n",
        "from keras.layers import Dense\n",
        "from keras.utils import to_categorical\n",
        "import os\n",
        "import joblib"
      ],
      "execution_count": null,
      "outputs": []
    },
    {
      "cell_type": "code",
      "metadata": {
        "colab": {
          "base_uri": "https://localhost:8080/"
        },
        "id": "78CeOTpZcFX3",
        "outputId": "553c9bfb-4a02-4531-b4be-e83af4c6c8a6"
      },
      "source": [
        "!gdown https://drive.google.com/uc?id=1oCIVZbIWmg2RvcCHcxko5alyZh19nGoF\n",
        "!gdown https://drive.google.com/uc?id=1vCS6gDbsS3mVE5WLHM0nu-ww0GcI1ybN\n",
        "!gdown https://drive.google.com/uc?id=10_pO2fGiAKSdNjO-p3d1dFo3VuY1juL5\n",
        "!gdown https://drive.google.com/uc?id=1kSH1dteCOdFT5eFFM-1DCdbl7TZ4gXzS\n",
        "!gdown https://drive.google.com/uc?id=1nRKTC6Pez1fRAMYkFIHQNLfB0Hhj5fok\n",
        "!gdown https://drive.google.com/uc?id=1lA19-bvYJ_btc1WSXpKqU9L6nD3dpUjR\n",
        "!gdown https://drive.google.com/uc?id=1Av_X9N5BB38edPLK0vtYIBQ9toUdDB1e\n",
        "!gdown https://drive.google.com/uc?id=11u-MTRj8qiqC0rsB23F37lc4MjNh3Fhk"
      ],
      "execution_count": null,
      "outputs": [
        {
          "output_type": "stream",
          "text": [
            "Downloading...\n",
            "From: https://drive.google.com/uc?id=1oCIVZbIWmg2RvcCHcxko5alyZh19nGoF\n",
            "To: /content/Monday-WorkingHours.pcap_ISCX.csv\n",
            "177MB [00:01, 105MB/s] \n",
            "Downloading...\n",
            "From: https://drive.google.com/uc?id=1vCS6gDbsS3mVE5WLHM0nu-ww0GcI1ybN\n",
            "To: /content/Tuesday-WorkingHours.pcap_ISCX.csv\n",
            "135MB [00:01, 104MB/s] \n",
            "Downloading...\n",
            "From: https://drive.google.com/uc?id=10_pO2fGiAKSdNjO-p3d1dFo3VuY1juL5\n",
            "To: /content/Wednesday-workingHours.pcap_ISCX.csv\n",
            "225MB [00:01, 127MB/s]\n",
            "Downloading...\n",
            "From: https://drive.google.com/uc?id=1kSH1dteCOdFT5eFFM-1DCdbl7TZ4gXzS\n",
            "To: /content/Thursday-WorkingHours-Morning-WebAttacks.pcap_ISCX.csv\n",
            "52.0MB [00:00, 72.7MB/s]\n",
            "Downloading...\n",
            "From: https://drive.google.com/uc?id=1nRKTC6Pez1fRAMYkFIHQNLfB0Hhj5fok\n",
            "To: /content/Thursday-WorkingHours-Afternoon-Infilteration.pcap_ISCX.csv\n",
            "83.1MB [00:00, 116MB/s] \n",
            "Downloading...\n",
            "From: https://drive.google.com/uc?id=1lA19-bvYJ_btc1WSXpKqU9L6nD3dpUjR\n",
            "To: /content/Friday-WorkingHours-Morning.pcap_ISCX.csv\n",
            "58.3MB [00:00, 103MB/s] \n",
            "Downloading...\n",
            "From: https://drive.google.com/uc?id=1Av_X9N5BB38edPLK0vtYIBQ9toUdDB1e\n",
            "To: /content/Friday-WorkingHours-Afternoon-PortScan.pcap_ISCX.csv\n",
            "76.9MB [00:00, 87.7MB/s]\n",
            "Downloading...\n",
            "From: https://drive.google.com/uc?id=11u-MTRj8qiqC0rsB23F37lc4MjNh3Fhk\n",
            "To: /content/Friday-WorkingHours-Afternoon-DDos.pcap_ISCX.csv\n",
            "77.1MB [00:00, 101MB/s] \n"
          ],
          "name": "stdout"
        }
      ]
    },
    {
      "cell_type": "code",
      "metadata": {
        "id": "U88llIreOf23",
        "colab": {
          "base_uri": "https://localhost:8080/"
        },
        "outputId": "b997df84-a094-4cd5-f9fa-b681e5367806"
      },
      "source": [
        "datasets = os.listdir()\n",
        "datasets.remove('.config')\n",
        "datasets.remove('sample_data')\n",
        "datasets"
      ],
      "execution_count": null,
      "outputs": [
        {
          "output_type": "execute_result",
          "data": {
            "text/plain": [
              "['Friday-WorkingHours-Morning.pcap_ISCX.csv',\n",
              " 'Monday-WorkingHours.pcap_ISCX.csv',\n",
              " 'Wednesday-workingHours.pcap_ISCX.csv',\n",
              " 'Friday-WorkingHours-Afternoon-DDos.pcap_ISCX.csv',\n",
              " 'Tuesday-WorkingHours.pcap_ISCX.csv',\n",
              " 'Thursday-WorkingHours-Afternoon-Infilteration.pcap_ISCX.csv',\n",
              " 'Friday-WorkingHours-Afternoon-PortScan.pcap_ISCX.csv',\n",
              " 'Thursday-WorkingHours-Morning-WebAttacks.pcap_ISCX.csv']"
            ]
          },
          "metadata": {
            "tags": []
          },
          "execution_count": 3
        }
      ]
    },
    {
      "cell_type": "code",
      "metadata": {
        "id": "KQM7QJL8hQck"
      },
      "source": [
        "df = pd.read_csv(datasets[0])\n",
        "\n",
        "for i in range(1, len(datasets)):\n",
        "  df_inter = pd.read_csv(datasets[i])\n",
        "  df = pd.concat([df, df_inter], axis=0)\n",
        "  \n",
        "df = df.sample(frac = 1)"
      ],
      "execution_count": null,
      "outputs": []
    },
    {
      "cell_type": "code",
      "metadata": {
        "id": "N07DOthwhQvV"
      },
      "source": [
        "imp_features = ['Flow IAT Min',\n",
        " 'Bwd IAT Mean',\n",
        " 'Flow IAT Mean',\n",
        " 'Init_Win_bytes_forward',\n",
        " 'Subflow Fwd Bytes',\n",
        " 'Total Length of Fwd Packets',\n",
        " 'ACK Flag Count',\n",
        " 'Fwd PSH Flags',\n",
        " 'SYN Flag Count',\n",
        " 'Fwd Packets/s',\n",
        " 'Init_Win_bytes_backward',\n",
        " 'Flow Duration',\n",
        " 'Active Mean',\n",
        " 'Fwd Packet Length Mean',\n",
        " 'Bwd Packets/s',\n",
        " 'PSH Flag Count',\n",
        " 'Bwd Packet Length Std',\n",
        " 'Average Packet Size',\n",
        " 'Flow IAT Std',\n",
        " 'Label']"
      ],
      "execution_count": null,
      "outputs": []
    },
    {
      "cell_type": "code",
      "metadata": {
        "colab": {
          "base_uri": "https://localhost:8080/",
          "height": 275
        },
        "id": "Af6Qx52rnrME",
        "outputId": "aa3f202d-6695-4aa0-d9d6-2fa7278d74ce"
      },
      "source": [
        "df.head()"
      ],
      "execution_count": null,
      "outputs": [
        {
          "output_type": "execute_result",
          "data": {
            "text/html": [
              "<div>\n",
              "<style scoped>\n",
              "    .dataframe tbody tr th:only-of-type {\n",
              "        vertical-align: middle;\n",
              "    }\n",
              "\n",
              "    .dataframe tbody tr th {\n",
              "        vertical-align: top;\n",
              "    }\n",
              "\n",
              "    .dataframe thead th {\n",
              "        text-align: right;\n",
              "    }\n",
              "</style>\n",
              "<table border=\"1\" class=\"dataframe\">\n",
              "  <thead>\n",
              "    <tr style=\"text-align: right;\">\n",
              "      <th></th>\n",
              "      <th>Destination Port</th>\n",
              "      <th>Flow Duration</th>\n",
              "      <th>Total Fwd Packets</th>\n",
              "      <th>Total Backward Packets</th>\n",
              "      <th>Total Length of Fwd Packets</th>\n",
              "      <th>Total Length of Bwd Packets</th>\n",
              "      <th>Fwd Packet Length Max</th>\n",
              "      <th>Fwd Packet Length Min</th>\n",
              "      <th>Fwd Packet Length Mean</th>\n",
              "      <th>Fwd Packet Length Std</th>\n",
              "      <th>Bwd Packet Length Max</th>\n",
              "      <th>Bwd Packet Length Min</th>\n",
              "      <th>Bwd Packet Length Mean</th>\n",
              "      <th>Bwd Packet Length Std</th>\n",
              "      <th>Flow Bytes/s</th>\n",
              "      <th>Flow Packets/s</th>\n",
              "      <th>Flow IAT Mean</th>\n",
              "      <th>Flow IAT Std</th>\n",
              "      <th>Flow IAT Max</th>\n",
              "      <th>Flow IAT Min</th>\n",
              "      <th>Fwd IAT Total</th>\n",
              "      <th>Fwd IAT Mean</th>\n",
              "      <th>Fwd IAT Std</th>\n",
              "      <th>Fwd IAT Max</th>\n",
              "      <th>Fwd IAT Min</th>\n",
              "      <th>Bwd IAT Total</th>\n",
              "      <th>Bwd IAT Mean</th>\n",
              "      <th>Bwd IAT Std</th>\n",
              "      <th>Bwd IAT Max</th>\n",
              "      <th>Bwd IAT Min</th>\n",
              "      <th>Fwd PSH Flags</th>\n",
              "      <th>Bwd PSH Flags</th>\n",
              "      <th>Fwd URG Flags</th>\n",
              "      <th>Bwd URG Flags</th>\n",
              "      <th>Fwd Header Length</th>\n",
              "      <th>Bwd Header Length</th>\n",
              "      <th>Fwd Packets/s</th>\n",
              "      <th>Bwd Packets/s</th>\n",
              "      <th>Min Packet Length</th>\n",
              "      <th>Max Packet Length</th>\n",
              "      <th>Packet Length Mean</th>\n",
              "      <th>Packet Length Std</th>\n",
              "      <th>Packet Length Variance</th>\n",
              "      <th>FIN Flag Count</th>\n",
              "      <th>SYN Flag Count</th>\n",
              "      <th>RST Flag Count</th>\n",
              "      <th>PSH Flag Count</th>\n",
              "      <th>ACK Flag Count</th>\n",
              "      <th>URG Flag Count</th>\n",
              "      <th>CWE Flag Count</th>\n",
              "      <th>ECE Flag Count</th>\n",
              "      <th>Down/Up Ratio</th>\n",
              "      <th>Average Packet Size</th>\n",
              "      <th>Avg Fwd Segment Size</th>\n",
              "      <th>Avg Bwd Segment Size</th>\n",
              "      <th>Fwd Header Length.1</th>\n",
              "      <th>Fwd Avg Bytes/Bulk</th>\n",
              "      <th>Fwd Avg Packets/Bulk</th>\n",
              "      <th>Fwd Avg Bulk Rate</th>\n",
              "      <th>Bwd Avg Bytes/Bulk</th>\n",
              "      <th>Bwd Avg Packets/Bulk</th>\n",
              "      <th>Bwd Avg Bulk Rate</th>\n",
              "      <th>Subflow Fwd Packets</th>\n",
              "      <th>Subflow Fwd Bytes</th>\n",
              "      <th>Subflow Bwd Packets</th>\n",
              "      <th>Subflow Bwd Bytes</th>\n",
              "      <th>Init_Win_bytes_forward</th>\n",
              "      <th>Init_Win_bytes_backward</th>\n",
              "      <th>act_data_pkt_fwd</th>\n",
              "      <th>min_seg_size_forward</th>\n",
              "      <th>Active Mean</th>\n",
              "      <th>Active Std</th>\n",
              "      <th>Active Max</th>\n",
              "      <th>Active Min</th>\n",
              "      <th>Idle Mean</th>\n",
              "      <th>Idle Std</th>\n",
              "      <th>Idle Max</th>\n",
              "      <th>Idle Min</th>\n",
              "      <th>Label</th>\n",
              "    </tr>\n",
              "  </thead>\n",
              "  <tbody>\n",
              "    <tr>\n",
              "      <th>333356</th>\n",
              "      <td>55033</td>\n",
              "      <td>45</td>\n",
              "      <td>1</td>\n",
              "      <td>1</td>\n",
              "      <td>0</td>\n",
              "      <td>0</td>\n",
              "      <td>0</td>\n",
              "      <td>0</td>\n",
              "      <td>0.0</td>\n",
              "      <td>0.0</td>\n",
              "      <td>0</td>\n",
              "      <td>0</td>\n",
              "      <td>0.0</td>\n",
              "      <td>0.0</td>\n",
              "      <td>0.000000e+00</td>\n",
              "      <td>44444.444440</td>\n",
              "      <td>45.0</td>\n",
              "      <td>0.000000</td>\n",
              "      <td>45</td>\n",
              "      <td>45</td>\n",
              "      <td>0</td>\n",
              "      <td>0.0</td>\n",
              "      <td>0.000000</td>\n",
              "      <td>0</td>\n",
              "      <td>0</td>\n",
              "      <td>0</td>\n",
              "      <td>0.0</td>\n",
              "      <td>0.0</td>\n",
              "      <td>0</td>\n",
              "      <td>0</td>\n",
              "      <td>0</td>\n",
              "      <td>0</td>\n",
              "      <td>0</td>\n",
              "      <td>0</td>\n",
              "      <td>32</td>\n",
              "      <td>32</td>\n",
              "      <td>22222.222220</td>\n",
              "      <td>22222.222220</td>\n",
              "      <td>0</td>\n",
              "      <td>0</td>\n",
              "      <td>0.000000</td>\n",
              "      <td>0.000000</td>\n",
              "      <td>0.000000</td>\n",
              "      <td>0</td>\n",
              "      <td>0</td>\n",
              "      <td>0</td>\n",
              "      <td>0</td>\n",
              "      <td>1</td>\n",
              "      <td>1</td>\n",
              "      <td>0</td>\n",
              "      <td>0</td>\n",
              "      <td>1</td>\n",
              "      <td>0.0</td>\n",
              "      <td>0.0</td>\n",
              "      <td>0.0</td>\n",
              "      <td>32</td>\n",
              "      <td>0</td>\n",
              "      <td>0</td>\n",
              "      <td>0</td>\n",
              "      <td>0</td>\n",
              "      <td>0</td>\n",
              "      <td>0</td>\n",
              "      <td>1</td>\n",
              "      <td>0</td>\n",
              "      <td>1</td>\n",
              "      <td>0</td>\n",
              "      <td>122</td>\n",
              "      <td>33304</td>\n",
              "      <td>0</td>\n",
              "      <td>32</td>\n",
              "      <td>0.0</td>\n",
              "      <td>0.0</td>\n",
              "      <td>0</td>\n",
              "      <td>0</td>\n",
              "      <td>0.0</td>\n",
              "      <td>0.0</td>\n",
              "      <td>0</td>\n",
              "      <td>0</td>\n",
              "      <td>BENIGN</td>\n",
              "    </tr>\n",
              "    <tr>\n",
              "      <th>230743</th>\n",
              "      <td>1022</td>\n",
              "      <td>61</td>\n",
              "      <td>1</td>\n",
              "      <td>1</td>\n",
              "      <td>0</td>\n",
              "      <td>6</td>\n",
              "      <td>0</td>\n",
              "      <td>0</td>\n",
              "      <td>0.0</td>\n",
              "      <td>0.0</td>\n",
              "      <td>6</td>\n",
              "      <td>6</td>\n",
              "      <td>6.0</td>\n",
              "      <td>0.0</td>\n",
              "      <td>9.836066e+04</td>\n",
              "      <td>32786.885250</td>\n",
              "      <td>61.0</td>\n",
              "      <td>0.000000</td>\n",
              "      <td>61</td>\n",
              "      <td>61</td>\n",
              "      <td>0</td>\n",
              "      <td>0.0</td>\n",
              "      <td>0.000000</td>\n",
              "      <td>0</td>\n",
              "      <td>0</td>\n",
              "      <td>0</td>\n",
              "      <td>0.0</td>\n",
              "      <td>0.0</td>\n",
              "      <td>0</td>\n",
              "      <td>0</td>\n",
              "      <td>0</td>\n",
              "      <td>0</td>\n",
              "      <td>0</td>\n",
              "      <td>0</td>\n",
              "      <td>40</td>\n",
              "      <td>20</td>\n",
              "      <td>16393.442620</td>\n",
              "      <td>16393.442620</td>\n",
              "      <td>0</td>\n",
              "      <td>6</td>\n",
              "      <td>2.000000</td>\n",
              "      <td>3.464102</td>\n",
              "      <td>12.000000</td>\n",
              "      <td>0</td>\n",
              "      <td>0</td>\n",
              "      <td>0</td>\n",
              "      <td>1</td>\n",
              "      <td>0</td>\n",
              "      <td>0</td>\n",
              "      <td>0</td>\n",
              "      <td>0</td>\n",
              "      <td>1</td>\n",
              "      <td>3.0</td>\n",
              "      <td>0.0</td>\n",
              "      <td>6.0</td>\n",
              "      <td>40</td>\n",
              "      <td>0</td>\n",
              "      <td>0</td>\n",
              "      <td>0</td>\n",
              "      <td>0</td>\n",
              "      <td>0</td>\n",
              "      <td>0</td>\n",
              "      <td>1</td>\n",
              "      <td>0</td>\n",
              "      <td>1</td>\n",
              "      <td>6</td>\n",
              "      <td>29200</td>\n",
              "      <td>0</td>\n",
              "      <td>0</td>\n",
              "      <td>40</td>\n",
              "      <td>0.0</td>\n",
              "      <td>0.0</td>\n",
              "      <td>0</td>\n",
              "      <td>0</td>\n",
              "      <td>0.0</td>\n",
              "      <td>0.0</td>\n",
              "      <td>0</td>\n",
              "      <td>0</td>\n",
              "      <td>PortScan</td>\n",
              "    </tr>\n",
              "    <tr>\n",
              "      <th>29862</th>\n",
              "      <td>443</td>\n",
              "      <td>10254</td>\n",
              "      <td>3</td>\n",
              "      <td>0</td>\n",
              "      <td>0</td>\n",
              "      <td>0</td>\n",
              "      <td>0</td>\n",
              "      <td>0</td>\n",
              "      <td>0.0</td>\n",
              "      <td>0.0</td>\n",
              "      <td>0</td>\n",
              "      <td>0</td>\n",
              "      <td>0.0</td>\n",
              "      <td>0.0</td>\n",
              "      <td>0.000000e+00</td>\n",
              "      <td>292.568754</td>\n",
              "      <td>5127.0</td>\n",
              "      <td>7249.258721</td>\n",
              "      <td>10253</td>\n",
              "      <td>1</td>\n",
              "      <td>10254</td>\n",
              "      <td>5127.0</td>\n",
              "      <td>7249.258721</td>\n",
              "      <td>10253</td>\n",
              "      <td>1</td>\n",
              "      <td>0</td>\n",
              "      <td>0.0</td>\n",
              "      <td>0.0</td>\n",
              "      <td>0</td>\n",
              "      <td>0</td>\n",
              "      <td>0</td>\n",
              "      <td>0</td>\n",
              "      <td>0</td>\n",
              "      <td>0</td>\n",
              "      <td>96</td>\n",
              "      <td>0</td>\n",
              "      <td>292.568754</td>\n",
              "      <td>0.000000</td>\n",
              "      <td>0</td>\n",
              "      <td>0</td>\n",
              "      <td>0.000000</td>\n",
              "      <td>0.000000</td>\n",
              "      <td>0.000000</td>\n",
              "      <td>0</td>\n",
              "      <td>0</td>\n",
              "      <td>0</td>\n",
              "      <td>0</td>\n",
              "      <td>1</td>\n",
              "      <td>0</td>\n",
              "      <td>0</td>\n",
              "      <td>0</td>\n",
              "      <td>0</td>\n",
              "      <td>0.0</td>\n",
              "      <td>0.0</td>\n",
              "      <td>0.0</td>\n",
              "      <td>96</td>\n",
              "      <td>0</td>\n",
              "      <td>0</td>\n",
              "      <td>0</td>\n",
              "      <td>0</td>\n",
              "      <td>0</td>\n",
              "      <td>0</td>\n",
              "      <td>3</td>\n",
              "      <td>0</td>\n",
              "      <td>0</td>\n",
              "      <td>0</td>\n",
              "      <td>322</td>\n",
              "      <td>-1</td>\n",
              "      <td>0</td>\n",
              "      <td>32</td>\n",
              "      <td>0.0</td>\n",
              "      <td>0.0</td>\n",
              "      <td>0</td>\n",
              "      <td>0</td>\n",
              "      <td>0.0</td>\n",
              "      <td>0.0</td>\n",
              "      <td>0</td>\n",
              "      <td>0</td>\n",
              "      <td>BENIGN</td>\n",
              "    </tr>\n",
              "    <tr>\n",
              "      <th>480184</th>\n",
              "      <td>53</td>\n",
              "      <td>198</td>\n",
              "      <td>2</td>\n",
              "      <td>2</td>\n",
              "      <td>80</td>\n",
              "      <td>204</td>\n",
              "      <td>40</td>\n",
              "      <td>40</td>\n",
              "      <td>40.0</td>\n",
              "      <td>0.0</td>\n",
              "      <td>102</td>\n",
              "      <td>102</td>\n",
              "      <td>102.0</td>\n",
              "      <td>0.0</td>\n",
              "      <td>1.434343e+06</td>\n",
              "      <td>20202.020200</td>\n",
              "      <td>66.0</td>\n",
              "      <td>30.315013</td>\n",
              "      <td>101</td>\n",
              "      <td>48</td>\n",
              "      <td>49</td>\n",
              "      <td>49.0</td>\n",
              "      <td>0.000000</td>\n",
              "      <td>49</td>\n",
              "      <td>49</td>\n",
              "      <td>48</td>\n",
              "      <td>48.0</td>\n",
              "      <td>0.0</td>\n",
              "      <td>48</td>\n",
              "      <td>48</td>\n",
              "      <td>0</td>\n",
              "      <td>0</td>\n",
              "      <td>0</td>\n",
              "      <td>0</td>\n",
              "      <td>64</td>\n",
              "      <td>52</td>\n",
              "      <td>10101.010100</td>\n",
              "      <td>10101.010100</td>\n",
              "      <td>40</td>\n",
              "      <td>102</td>\n",
              "      <td>64.800000</td>\n",
              "      <td>33.958799</td>\n",
              "      <td>1153.200000</td>\n",
              "      <td>0</td>\n",
              "      <td>0</td>\n",
              "      <td>0</td>\n",
              "      <td>0</td>\n",
              "      <td>0</td>\n",
              "      <td>0</td>\n",
              "      <td>0</td>\n",
              "      <td>0</td>\n",
              "      <td>1</td>\n",
              "      <td>81.0</td>\n",
              "      <td>40.0</td>\n",
              "      <td>102.0</td>\n",
              "      <td>64</td>\n",
              "      <td>0</td>\n",
              "      <td>0</td>\n",
              "      <td>0</td>\n",
              "      <td>0</td>\n",
              "      <td>0</td>\n",
              "      <td>0</td>\n",
              "      <td>2</td>\n",
              "      <td>80</td>\n",
              "      <td>2</td>\n",
              "      <td>204</td>\n",
              "      <td>-1</td>\n",
              "      <td>-1</td>\n",
              "      <td>1</td>\n",
              "      <td>32</td>\n",
              "      <td>0.0</td>\n",
              "      <td>0.0</td>\n",
              "      <td>0</td>\n",
              "      <td>0</td>\n",
              "      <td>0.0</td>\n",
              "      <td>0.0</td>\n",
              "      <td>0</td>\n",
              "      <td>0</td>\n",
              "      <td>BENIGN</td>\n",
              "    </tr>\n",
              "    <tr>\n",
              "      <th>172867</th>\n",
              "      <td>53</td>\n",
              "      <td>33919</td>\n",
              "      <td>1</td>\n",
              "      <td>1</td>\n",
              "      <td>43</td>\n",
              "      <td>71</td>\n",
              "      <td>43</td>\n",
              "      <td>43</td>\n",
              "      <td>43.0</td>\n",
              "      <td>0.0</td>\n",
              "      <td>71</td>\n",
              "      <td>71</td>\n",
              "      <td>71.0</td>\n",
              "      <td>0.0</td>\n",
              "      <td>3.360948e+03</td>\n",
              "      <td>58.964002</td>\n",
              "      <td>33919.0</td>\n",
              "      <td>0.000000</td>\n",
              "      <td>33919</td>\n",
              "      <td>33919</td>\n",
              "      <td>0</td>\n",
              "      <td>0.0</td>\n",
              "      <td>0.000000</td>\n",
              "      <td>0</td>\n",
              "      <td>0</td>\n",
              "      <td>0</td>\n",
              "      <td>0.0</td>\n",
              "      <td>0.0</td>\n",
              "      <td>0</td>\n",
              "      <td>0</td>\n",
              "      <td>0</td>\n",
              "      <td>0</td>\n",
              "      <td>0</td>\n",
              "      <td>0</td>\n",
              "      <td>40</td>\n",
              "      <td>32</td>\n",
              "      <td>29.482001</td>\n",
              "      <td>29.482001</td>\n",
              "      <td>43</td>\n",
              "      <td>71</td>\n",
              "      <td>52.333333</td>\n",
              "      <td>16.165808</td>\n",
              "      <td>261.333333</td>\n",
              "      <td>0</td>\n",
              "      <td>0</td>\n",
              "      <td>0</td>\n",
              "      <td>0</td>\n",
              "      <td>0</td>\n",
              "      <td>0</td>\n",
              "      <td>0</td>\n",
              "      <td>0</td>\n",
              "      <td>1</td>\n",
              "      <td>78.5</td>\n",
              "      <td>43.0</td>\n",
              "      <td>71.0</td>\n",
              "      <td>40</td>\n",
              "      <td>0</td>\n",
              "      <td>0</td>\n",
              "      <td>0</td>\n",
              "      <td>0</td>\n",
              "      <td>0</td>\n",
              "      <td>0</td>\n",
              "      <td>1</td>\n",
              "      <td>43</td>\n",
              "      <td>1</td>\n",
              "      <td>71</td>\n",
              "      <td>-1</td>\n",
              "      <td>-1</td>\n",
              "      <td>0</td>\n",
              "      <td>40</td>\n",
              "      <td>0.0</td>\n",
              "      <td>0.0</td>\n",
              "      <td>0</td>\n",
              "      <td>0</td>\n",
              "      <td>0.0</td>\n",
              "      <td>0.0</td>\n",
              "      <td>0</td>\n",
              "      <td>0</td>\n",
              "      <td>BENIGN</td>\n",
              "    </tr>\n",
              "  </tbody>\n",
              "</table>\n",
              "</div>"
            ],
            "text/plain": [
              "         Destination Port   Flow Duration  ...   Idle Min     Label\n",
              "333356              55033              45  ...          0    BENIGN\n",
              "230743               1022              61  ...          0  PortScan\n",
              "29862                 443           10254  ...          0    BENIGN\n",
              "480184                 53             198  ...          0    BENIGN\n",
              "172867                 53           33919  ...          0    BENIGN\n",
              "\n",
              "[5 rows x 79 columns]"
            ]
          },
          "metadata": {
            "tags": []
          },
          "execution_count": 6
        }
      ]
    },
    {
      "cell_type": "code",
      "metadata": {
        "id": "FCKupkD8dXRy"
      },
      "source": [
        "cols = list(df.columns)\n",
        "\n",
        "for col in cols:\n",
        "  if col[0] == ' ':\n",
        "    df = df.rename(columns={col: col[1:]})"
      ],
      "execution_count": null,
      "outputs": []
    },
    {
      "cell_type": "code",
      "metadata": {
        "id": "HocTSZopeXVd"
      },
      "source": [
        "#df = df[imp_features]\n",
        "cols = list(df.columns)"
      ],
      "execution_count": null,
      "outputs": []
    },
    {
      "cell_type": "code",
      "metadata": {
        "id": "Xm0CYCVq8iK7"
      },
      "source": [
        "df.replace([np.inf, -np.inf], np.nan, inplace=True)\n",
        "df.dropna(inplace=True)\n",
        "df = df.reset_index(drop=True)"
      ],
      "execution_count": null,
      "outputs": []
    },
    {
      "cell_type": "code",
      "metadata": {
        "id": "8i3_rQrCFx00"
      },
      "source": [
        "df.iloc[:,-1] = df.iloc[:, -1].apply(lambda x : 'Web' if x[:3] == 'Web' or x[:3] == 'Sql' else x)"
      ],
      "execution_count": null,
      "outputs": []
    },
    {
      "cell_type": "code",
      "metadata": {
        "id": "UekhK8_6EFfI"
      },
      "source": [
        "X = df.iloc[:, :-1]\n",
        "y = df.iloc[:, -1]"
      ],
      "execution_count": null,
      "outputs": []
    },
    {
      "cell_type": "code",
      "metadata": {
        "id": "71CEy-edSN2n"
      },
      "source": [
        "le = LabelEncoder()\n",
        "y = le.fit_transform(y)"
      ],
      "execution_count": null,
      "outputs": []
    },
    {
      "cell_type": "code",
      "metadata": {
        "id": "8JGM_jezc-ym"
      },
      "source": [
        "ss = StandardScaler()\n",
        "X = ss.fit_transform(X)"
      ],
      "execution_count": null,
      "outputs": []
    },
    {
      "cell_type": "code",
      "metadata": {
        "colab": {
          "base_uri": "https://localhost:8080/"
        },
        "id": "wvUSInHSSUou",
        "outputId": "9a199af5-43ac-4cf9-8bf7-f5e79e81ff5f"
      },
      "source": [
        "X"
      ],
      "execution_count": null,
      "outputs": [
        {
          "output_type": "execute_result",
          "data": {
            "text/plain": [
              "array([[ 2.57035422, -0.43961119, -0.01115785, ..., -0.10951643,\n",
              "        -0.35707153, -0.33918443],\n",
              "       [-0.3852146 , -0.43961071, -0.01115785, ..., -0.10951643,\n",
              "        -0.35707153, -0.33918443],\n",
              "       [-0.41689841, -0.43930796, -0.00849137, ..., -0.10951643,\n",
              "        -0.35707153, -0.33918443],\n",
              "       ...,\n",
              "       [-0.43823984, -0.43888741, -0.00982461, ..., -0.10951643,\n",
              "        -0.35707153, -0.33918443],\n",
              "       [-0.43823984, -0.43960757, -0.00982461, ..., -0.10951643,\n",
              "        -0.35707153, -0.33918443],\n",
              "       [-0.43823984, -0.43765414, -0.00982461, ..., -0.10951643,\n",
              "        -0.35707153, -0.33918443]])"
            ]
          },
          "metadata": {
            "tags": []
          },
          "execution_count": 15
        }
      ]
    },
    {
      "cell_type": "code",
      "metadata": {
        "colab": {
          "base_uri": "https://localhost:8080/"
        },
        "id": "X2UDqLODSWi_",
        "outputId": "ae98f4dc-2bec-4d6d-fc3f-cfc0b802fd03"
      },
      "source": [
        "np.unique(y)"
      ],
      "execution_count": null,
      "outputs": [
        {
          "output_type": "execute_result",
          "data": {
            "text/plain": [
              "array([ 0,  1,  2,  3,  4,  5,  6,  7,  8,  9, 10, 11, 12])"
            ]
          },
          "metadata": {
            "tags": []
          },
          "execution_count": 16
        }
      ]
    },
    {
      "cell_type": "code",
      "metadata": {
        "id": "vpzxzsK2Sr6C"
      },
      "source": [
        "X_train, X_test, y_train, y_test = train_test_split(X, y, test_size = 0.25, random_state = 21)"
      ],
      "execution_count": null,
      "outputs": []
    },
    {
      "cell_type": "code",
      "metadata": {
        "id": "QMXY-zXiMlEn"
      },
      "source": [
        "#savez_compressed('y_test.npz', y_test)"
      ],
      "execution_count": null,
      "outputs": []
    },
    {
      "cell_type": "code",
      "metadata": {
        "id": "ExqOQsAK-sVA"
      },
      "source": [
        "def get_integer_mapping(le):\n",
        "    '''\n",
        "    Return a dict mapping labels to their integer values\n",
        "    from an SKlearn LabelEncoder\n",
        "    le = a fitted SKlearn LabelEncoder\n",
        "    '''\n",
        "    res = {}\n",
        "    for cl in le.classes_:\n",
        "        res.update({cl:le.transform([cl])[0]})\n",
        "\n",
        "    return res\n",
        "\n",
        "integerMapping = get_integer_mapping(le)"
      ],
      "execution_count": null,
      "outputs": []
    },
    {
      "cell_type": "code",
      "metadata": {
        "id": "xi014-3yVdnm",
        "colab": {
          "base_uri": "https://localhost:8080/"
        },
        "outputId": "32ad43ab-7586-4a2e-a31e-7e2c2e0e6c5f"
      },
      "source": [
        "rfClassifier = RandomForestClassifier(n_estimators = 100, criterion = 'entropy', random_state = 42)\n",
        "rfClassifier.fit(X_train, y_train)"
      ],
      "execution_count": null,
      "outputs": [
        {
          "output_type": "execute_result",
          "data": {
            "text/plain": [
              "RandomForestClassifier(bootstrap=True, ccp_alpha=0.0, class_weight=None,\n",
              "                       criterion='entropy', max_depth=None, max_features='auto',\n",
              "                       max_leaf_nodes=None, max_samples=None,\n",
              "                       min_impurity_decrease=0.0, min_impurity_split=None,\n",
              "                       min_samples_leaf=1, min_samples_split=2,\n",
              "                       min_weight_fraction_leaf=0.0, n_estimators=100,\n",
              "                       n_jobs=None, oob_score=False, random_state=42, verbose=0,\n",
              "                       warm_start=False)"
            ]
          },
          "metadata": {
            "tags": []
          },
          "execution_count": 20
        }
      ]
    },
    {
      "cell_type": "code",
      "metadata": {
        "id": "_cRYPVJXVkgy",
        "colab": {
          "base_uri": "https://localhost:8080/"
        },
        "outputId": "2c4eb55e-c139-411e-9084-726d4c9a9868"
      },
      "source": [
        "y_pred_rf = rfClassifier.predict(X_test)\n",
        "accuracy_score(y_test, y_pred_rf)"
      ],
      "execution_count": null,
      "outputs": [
        {
          "output_type": "execute_result",
          "data": {
            "text/plain": [
              "0.9990183445101554"
            ]
          },
          "metadata": {
            "tags": []
          },
          "execution_count": 21
        }
      ]
    },
    {
      "cell_type": "code",
      "metadata": {
        "id": "1aeH3p8mQlie"
      },
      "source": [
        "#savez_compressed('y_pred_rf.npz', y_pred_rf)"
      ],
      "execution_count": null,
      "outputs": []
    },
    {
      "cell_type": "code",
      "metadata": {
        "id": "jGSbqeeGcMTd",
        "colab": {
          "base_uri": "https://localhost:8080/"
        },
        "outputId": "ed324be7-917e-4476-b656-1b216788f385"
      },
      "source": [
        "np.unique(y_pred_rf, return_counts=True)"
      ],
      "execution_count": null,
      "outputs": [
        {
          "output_type": "execute_result",
          "data": {
            "text/plain": [
              "(array([ 0,  1,  2,  3,  4,  5,  6,  7,  8,  9, 10, 11, 12]),\n",
              " array([567461,    369,  32118,   2616,  57666,   1342,   1443,   1926,\n",
              "             4,      4,  39998,   1495,    527]))"
            ]
          },
          "metadata": {
            "tags": []
          },
          "execution_count": 23
        }
      ]
    },
    {
      "cell_type": "code",
      "metadata": {
        "id": "D9mdTBEBcQfa",
        "colab": {
          "base_uri": "https://localhost:8080/"
        },
        "outputId": "b784c2e2-b453-4c93-fc25-240d7ddb540e"
      },
      "source": [
        "nbClassifier = GaussianNB()\n",
        "nbClassifier.fit(X_train, y_train)"
      ],
      "execution_count": null,
      "outputs": [
        {
          "output_type": "execute_result",
          "data": {
            "text/plain": [
              "GaussianNB(priors=None, var_smoothing=1e-09)"
            ]
          },
          "metadata": {
            "tags": []
          },
          "execution_count": 24
        }
      ]
    },
    {
      "cell_type": "code",
      "metadata": {
        "id": "8rYxlT1MHgg1",
        "colab": {
          "base_uri": "https://localhost:8080/"
        },
        "outputId": "4bc439c2-cfab-4ecd-f818-f4d7fd100bee"
      },
      "source": [
        "y_pred_nb = nbClassifier.predict(X_test)\n",
        "accuracy_score(y_test, y_pred_nb)"
      ],
      "execution_count": null,
      "outputs": [
        {
          "output_type": "execute_result",
          "data": {
            "text/plain": [
              "0.6925310727910277"
            ]
          },
          "metadata": {
            "tags": []
          },
          "execution_count": 25
        }
      ]
    },
    {
      "cell_type": "code",
      "metadata": {
        "id": "EXtJKz-2Qn68"
      },
      "source": [
        "#savez_compressed('y_pred_nb.npz', y_pred_nb)"
      ],
      "execution_count": null,
      "outputs": []
    },
    {
      "cell_type": "code",
      "metadata": {
        "id": "hYpSLG-ILJyu"
      },
      "source": [
        "model_nn = Sequential()\n",
        "\n",
        "model_nn.add(Dense(32, activation = 'relu', input_dim = 78))\n",
        "model_nn.add(Dense(64, activation = 'relu'))\n",
        "\n",
        "model_nn.add(Dense(13, activation = 'softmax'))"
      ],
      "execution_count": null,
      "outputs": []
    },
    {
      "cell_type": "code",
      "metadata": {
        "id": "icNS-FkxLkkw"
      },
      "source": [
        "Adam = keras.optimizers.Adam(lr=0.01, beta_1=0.9, beta_2=0.999, amsgrad=False)"
      ],
      "execution_count": null,
      "outputs": []
    },
    {
      "cell_type": "code",
      "metadata": {
        "id": "sDRi1dLDL1vP"
      },
      "source": [
        "model_nn.compile(loss='categorical_crossentropy', optimizer=Adam, metrics=['accuracy'])"
      ],
      "execution_count": null,
      "outputs": []
    },
    {
      "cell_type": "code",
      "metadata": {
        "id": "0tKM33A4MVvc"
      },
      "source": [
        "y_train_nn = to_categorical(y_train)"
      ],
      "execution_count": null,
      "outputs": []
    },
    {
      "cell_type": "code",
      "metadata": {
        "id": "i_QlVK0zL_M-",
        "colab": {
          "base_uri": "https://localhost:8080/"
        },
        "outputId": "04341964-f15b-48eb-ad21-f15afc81dd64"
      },
      "source": [
        "model_nn.fit(X_train, y_train_nn, epochs = 2, validation_split = 0.2)"
      ],
      "execution_count": null,
      "outputs": [
        {
          "output_type": "stream",
          "text": [
            "Epoch 1/2\n",
            "53023/53023 [==============================] - 90s 2ms/step - loss: 0.1094 - accuracy: 0.9635 - val_loss: 0.0783 - val_accuracy: 0.9737\n",
            "Epoch 2/2\n",
            "53023/53023 [==============================] - 90s 2ms/step - loss: 0.0944 - accuracy: 0.9715 - val_loss: 0.1048 - val_accuracy: 0.9659\n"
          ],
          "name": "stdout"
        },
        {
          "output_type": "execute_result",
          "data": {
            "text/plain": [
              "<tensorflow.python.keras.callbacks.History at 0x7f92ee2501d0>"
            ]
          },
          "metadata": {
            "tags": []
          },
          "execution_count": 31
        }
      ]
    },
    {
      "cell_type": "code",
      "metadata": {
        "id": "VCmGXZReMF8q",
        "colab": {
          "base_uri": "https://localhost:8080/"
        },
        "outputId": "f42b790f-6b6c-4e98-8906-83700dbd926f"
      },
      "source": [
        "y_test_nn = to_categorical(y_test)\n",
        "model_nn.evaluate(X_test, y_test_nn)"
      ],
      "execution_count": null,
      "outputs": [
        {
          "output_type": "stream",
          "text": [
            "22093/22093 [==============================] - 24s 1ms/step - loss: 0.1090 - accuracy: 0.9664\n"
          ],
          "name": "stdout"
        },
        {
          "output_type": "execute_result",
          "data": {
            "text/plain": [
              "[0.10899565368890762, 0.9664285182952881]"
            ]
          },
          "metadata": {
            "tags": []
          },
          "execution_count": 32
        }
      ]
    },
    {
      "cell_type": "code",
      "metadata": {
        "id": "_RhN8JL-Qwdt"
      },
      "source": [
        "y_pred_nn = model_nn.predict(X_test)"
      ],
      "execution_count": null,
      "outputs": []
    },
    {
      "cell_type": "code",
      "metadata": {
        "id": "REJmvj2nuCkx",
        "colab": {
          "base_uri": "https://localhost:8080/"
        },
        "outputId": "09be9326-a912-4361-9217-1bef30908cf0"
      },
      "source": [
        "y_pred_nn[0]"
      ],
      "execution_count": null,
      "outputs": [
        {
          "output_type": "execute_result",
          "data": {
            "text/plain": [
              "array([1.0000000e+00, 0.0000000e+00, 0.0000000e+00, 0.0000000e+00,\n",
              "       0.0000000e+00, 0.0000000e+00, 0.0000000e+00, 0.0000000e+00,\n",
              "       2.5259125e-36, 3.1675005e-15, 0.0000000e+00, 0.0000000e+00,\n",
              "       0.0000000e+00], dtype=float32)"
            ]
          },
          "metadata": {
            "tags": []
          },
          "execution_count": 34
        }
      ]
    },
    {
      "cell_type": "code",
      "metadata": {
        "id": "AiChuahruDvk",
        "colab": {
          "base_uri": "https://localhost:8080/"
        },
        "outputId": "82520470-d64e-40e5-aa16-62272ff32624"
      },
      "source": [
        "y_pred_nn.shape"
      ],
      "execution_count": null,
      "outputs": [
        {
          "output_type": "execute_result",
          "data": {
            "text/plain": [
              "(706969, 13)"
            ]
          },
          "metadata": {
            "tags": []
          },
          "execution_count": 35
        }
      ]
    },
    {
      "cell_type": "code",
      "metadata": {
        "id": "CXC63xREuF5p"
      },
      "source": [
        "y_pred_nn = np.argmax(y_pred_nn, axis=1)"
      ],
      "execution_count": null,
      "outputs": []
    },
    {
      "cell_type": "code",
      "metadata": {
        "id": "vfGwy5F2QqvX"
      },
      "source": [
        "#savez_compressed('y_pred_nn.npz', y_pred_nn)"
      ],
      "execution_count": null,
      "outputs": []
    },
    {
      "cell_type": "code",
      "metadata": {
        "id": "TBxpjwvxdotj"
      },
      "source": [
        "#model_nn.save(\"model_nn.h5\")\n",
        "#joblib.dump(rfClassifier, \"RF_compressed.joblib\", compress=3) \n",
        "#joblib.dump(nbClassifier, \"NB_compressed.joblib\", compress=3) "
      ],
      "execution_count": null,
      "outputs": []
    }
  ]
}